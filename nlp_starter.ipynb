{
  "nbformat": 4,
  "nbformat_minor": 0,
  "metadata": {
    "colab": {
      "name": "nlp_starter.ipynb",
      "provenance": [],
      "collapsed_sections": [],
      "authorship_tag": "ABX9TyMt7Hq5Kgcpv++w8iFB/3Xn",
      "include_colab_link": true
    },
    "kernelspec": {
      "name": "python3",
      "display_name": "Python 3"
    },
    "language_info": {
      "name": "python"
    }
  },
  "cells": [
    {
      "cell_type": "markdown",
      "metadata": {
        "id": "view-in-github",
        "colab_type": "text"
      },
      "source": [
        "<a href=\"https://colab.research.google.com/github/jasonsgraham/nlp_notes/blob/main/nlp_starter.ipynb\" target=\"_parent\"><img src=\"https://colab.research.google.com/assets/colab-badge.svg\" alt=\"Open In Colab\"/></a>"
      ]
    },
    {
      "cell_type": "markdown",
      "source": [
        "# Setup #"
      ],
      "metadata": {
        "id": "rqyINkDrImYK"
      }
    },
    {
      "cell_type": "code",
      "execution_count": 2,
      "metadata": {
        "colab": {
          "base_uri": "https://localhost:8080/"
        },
        "id": "jcL9Qj9m4tg5",
        "outputId": "92360706-47a6-40f1-fa33-9be08bd945a1"
      },
      "outputs": [
        {
          "output_type": "stream",
          "name": "stdout",
          "text": [
            "Loading WANDB api key.\n"
          ]
        }
      ],
      "source": [
        "#@title Default title text\n",
        "!wget -q https://gist.githubusercontent.com/jasonsgraham/f63e1737121e2154ee3ad228398137e2/raw/7f0bb2c8e756e43cabcd90027dedfb79670132ae/setup_colab.py -O colab_setup.py\n",
        "%run colab_setup.py"
      ]
    },
    {
      "cell_type": "code",
      "execution_count": 4,
      "metadata": {
        "id": "XmCqytz54Ksv"
      },
      "outputs": [],
      "source": [
        "%%sh\n",
        "pip install -q --upgrade transformers\n",
        "pip install -q --upgrade wandb\n",
        "pip install -q --upgrade mlflow"
      ]
    },
    {
      "cell_type": "markdown",
      "source": [
        "Check if notebook is running in Colab or Kaggle"
      ],
      "metadata": {
        "id": "wskI0TGcKDPd"
      }
    },
    {
      "cell_type": "code",
      "source": [
        "try:\n",
        "    import mlflow\n",
        "except ImportError as e:\n",
        "    !pip install mlflow\n",
        "    import mlflow"
      ],
      "metadata": {
        "id": "mtO1-xS-RwMD"
      },
      "execution_count": 5,
      "outputs": []
    },
    {
      "cell_type": "code",
      "source": [
        "import json\n",
        "from pathlib import Path\n",
        "\n",
        "import numpy as np\n",
        "import pandas as pd\n",
        "from scipy import sparse\n",
        "from tqdm import tqdm\n",
        "\n",
        "pd.options.display.width = 180\n",
        "pd.options.display.max_colwidth = 120"
      ],
      "metadata": {
        "jupyter": {
          "outputs_hidden": false
        },
        "execution": {
          "iopub.status.busy": "2022-06-22T20:11:53.144604Z",
          "iopub.execute_input": "2022-06-22T20:11:53.144887Z",
          "iopub.status.idle": "2022-06-22T20:11:53.150802Z",
          "shell.execute_reply.started": "2022-06-22T20:11:53.144858Z",
          "shell.execute_reply": "2022-06-22T20:11:53.149795Z"
        },
        "trusted": true,
        "id": "SOkVZopeImYL"
      },
      "execution_count": 6,
      "outputs": []
    },
    {
      "cell_type": "code",
      "execution_count": 7,
      "metadata": {
        "id": "GMj7yuuZvr2k"
      },
      "outputs": [],
      "source": [
        "import sys\n",
        "GOOGLE_COLAB = 'google.colab' in sys.modules\n",
        "\n",
        "if GOOGLE_COLAB:\n",
        "  data_dir = Path('/content/drive/MyDrive/Colab Notebooks/input/AI4Code')\n",
        "  output_dir = Path('/content/drive/MyDrive/Colab Notebooks/output/AI4Code')\n",
        "  train_parquet_file = data_dir / 'train.parquet'\n",
        "else:\n",
        "  data_dir = data_dir = Path('../input/AI4Code')\n",
        "  output_dir = Path('./')"
      ]
    },
    {
      "cell_type": "markdown",
      "source": [
        "# Ordering the Cells #"
      ],
      "metadata": {
        "id": "tzjH1bHqImYP"
      }
    },
    {
      "cell_type": "code",
      "source": [
        "df_orders = pd.read_csv(\n",
        "    data_dir / 'train_orders.csv',\n",
        "    index_col='id',\n",
        "    squeeze=True,\n",
        ").str.split()  # Split the string representation of cell_ids into a list\n",
        "\n",
        "df_orders"
      ],
      "metadata": {
        "jupyter": {
          "outputs_hidden": false
        },
        "execution": {
          "iopub.status.busy": "2022-06-22T20:20:19.839450Z",
          "iopub.execute_input": "2022-06-22T20:20:19.839793Z",
          "iopub.status.idle": "2022-06-22T20:20:23.007741Z",
          "shell.execute_reply.started": "2022-06-22T20:20:19.839759Z",
          "shell.execute_reply": "2022-06-22T20:20:23.006937Z"
        },
        "trusted": true,
        "id": "bryA-XdoImYQ"
      },
      "execution_count": null,
      "outputs": []
    },
    {
      "cell_type": "code",
      "source": [
        "NUM_TRAIN = 10000\n",
        "\n",
        "\n",
        "def read_notebook(path):\n",
        "    return (\n",
        "        pd.read_json(\n",
        "            path,\n",
        "            dtype={'cell_type': 'category', 'source': 'str'})\n",
        "        .assign(id=path.stem)\n",
        "        .rename_axis('cell_id')\n",
        "    )\n",
        "\n",
        "if train_parquet_file.exists():\n",
        "  df = pd.read_parquet(train_parquet_file)\n",
        "else:\n",
        "  paths_train = list((data_dir / 'train').glob('*.json'))[:NUM_TRAIN]\n",
        "  notebooks_train = [\n",
        "      read_notebook(path) for path in tqdm(paths_train, desc='Train NBs')\n",
        "  ]\n",
        "  df = (\n",
        "      pd.concat(notebooks_train)\n",
        "      .set_index('id', append=True)\n",
        "      .swaplevel()\n",
        "      .sort_index(level='id', sort_remaining=False)\n",
        "  )\n",
        "  df.to_parquet(train_parquet_file)"
      ],
      "metadata": {
        "jupyter": {
          "outputs_hidden": false
        },
        "execution": {
          "iopub.status.busy": "2022-06-22T20:12:00.441182Z",
          "iopub.execute_input": "2022-06-22T20:12:00.441447Z",
          "iopub.status.idle": "2022-06-22T20:13:53.598925Z",
          "shell.execute_reply.started": "2022-06-22T20:12:00.441420Z",
          "shell.execute_reply": "2022-06-22T20:13:53.598409Z"
        },
        "trusted": true,
        "id": "itkesgMJImYN"
      },
      "execution_count": 10,
      "outputs": []
    },
    {
      "cell_type": "code",
      "source": [
        "df_orders.shape"
      ],
      "metadata": {
        "colab": {
          "base_uri": "https://localhost:8080/"
        },
        "id": "Z_z4yBk3Si5n",
        "outputId": "cccc9101-52ae-481f-cd79-6bddc2a19b7c"
      },
      "execution_count": 15,
      "outputs": [
        {
          "output_type": "execute_result",
          "data": {
            "text/plain": [
              "(139256,)"
            ]
          },
          "metadata": {},
          "execution_count": 15
        }
      ]
    },
    {
      "cell_type": "code",
      "source": [
        "df"
      ],
      "metadata": {
        "id": "LLVxZqFBS610"
      },
      "execution_count": null,
      "outputs": []
    },
    {
      "cell_type": "code",
      "source": [
        "nb_id = df.index.unique('id')[6]\n",
        "# Get the correct order\n",
        "cell_order = df_orders.loc[nb_id]\n",
        "nb = df.loc[nb_id, :]\n",
        "print(\"The ordered notebook:\")\n",
        "#nb.loc[cell_order, :]\n",
        "cell_order"
      ],
      "metadata": {
        "colab": {
          "base_uri": "https://localhost:8080/"
        },
        "id": "Lu8WpJbXTDXb",
        "outputId": "3adf4f4d-de57-492d-b08e-92c4861e407e"
      },
      "execution_count": 19,
      "outputs": [
        {
          "output_type": "stream",
          "name": "stdout",
          "text": [
            "The ordered notebook:\n"
          ]
        },
        {
          "output_type": "execute_result",
          "data": {
            "text/plain": [
              "['3e551fb7',\n",
              " '45049ad8',\n",
              " '8bb41691',\n",
              " '123b4f4c',\n",
              " '0b92cb59',\n",
              " '5a8b6e2d',\n",
              " 'df963df4',\n",
              " '3c7d19bc',\n",
              " '0f3db81b',\n",
              " 'eadf5c66',\n",
              " '33ff3073',\n",
              " '6cfbe868',\n",
              " '88cc83b2',\n",
              " '818c4c15']"
            ]
          },
          "metadata": {},
          "execution_count": 19
        }
      ]
    },
    {
      "cell_type": "code",
      "source": [
        "def get_ranks(base, derived):\n",
        "    return [base.index(d) for d in derived]\n",
        "\n",
        "cell_ranks = get_ranks(cell_order, list(nb.index))\n",
        "nb.insert(0, 'rank', cell_ranks)\n",
        "\n",
        "nb"
      ],
      "metadata": {
        "colab": {
          "base_uri": "https://localhost:8080/",
          "height": 520
        },
        "id": "s-usviEgUbBH",
        "outputId": "d7379520-ec13-4776-b83a-2c456a13f501"
      },
      "execution_count": 20,
      "outputs": [
        {
          "output_type": "execute_result",
          "data": {
            "text/plain": [
              "          rank cell_type                                                                                                                   source\n",
              "cell_id                                                                                                                                          \n",
              "3e551fb7     0      code  # This Python 3 environment comes with many helpful analytics libraries installed\\n# It is defined by the kaggle/pyt...\n",
              "45049ad8     1      code   train_data = pd.read_csv(\"/kaggle/input/titanic/train.csv\")\\ntest_data = pd.read_csv(\"/kaggle/input/titanic/test.csv\")\n",
              "123b4f4c     3      code                                                                                              import plotly.express as px\n",
              "0b92cb59     4      code                                                                                                      train_data.head(20)\n",
              "df963df4     6      code                                         train_data.isnull().sum()  #checking out which column has most no. of NaN Values\n",
              "0f3db81b     8      code  px.bar(data_frame=train_data, x='Sex', y='Survived',color='Sex',facet_row_spacing=0, title=\"Relation between Gender ...\n",
              "33ff3073    10      code  total_passengers = train_data['Sex'].count()\\ncount_males = 0\\ncount_females = 0\\nfor i,j in zip(train_data['Sex'], ...\n",
              "818c4c15    13      code  from sklearn.ensemble import RandomForestClassifier\\n\\n\\ny = train_data[\"Survived\"]\\n\\nfeatures = [\"Pclass\", \"Sex\", ...\n",
              "6cfbe868    11  markdown                 ## Survival Rate for Male Passenger is : 12.235 %\\n\\n## Survival Rate for Female Passenger is : 26.150 %\n",
              "eadf5c66     9  markdown  ## Who has more luck in here? \\n\\n\\nFrom the above data we can find out that females had more survival rate on Titan...\n",
              "3c7d19bc     7  markdown                  From the above inference Cabin needs to be either dropped or needs to be filled with Appropriate values\n",
              "5a8b6e2d     5  markdown  ## EDA is all about asking the right questions\\n\\nWhat are some questions that come to your mind when you're checkin...\n",
              "8bb41691     2  markdown                                                                                  ### Checking out the Titanic Dataset \\n\n",
              "88cc83b2    12  markdown                                                                                                 # Machine Learning Model"
            ],
            "text/html": [
              "\n",
              "  <div id=\"df-fd1a4db6-b802-4640-b4fb-bbaafa8b2f80\">\n",
              "    <div class=\"colab-df-container\">\n",
              "      <div>\n",
              "<style scoped>\n",
              "    .dataframe tbody tr th:only-of-type {\n",
              "        vertical-align: middle;\n",
              "    }\n",
              "\n",
              "    .dataframe tbody tr th {\n",
              "        vertical-align: top;\n",
              "    }\n",
              "\n",
              "    .dataframe thead th {\n",
              "        text-align: right;\n",
              "    }\n",
              "</style>\n",
              "<table border=\"1\" class=\"dataframe\">\n",
              "  <thead>\n",
              "    <tr style=\"text-align: right;\">\n",
              "      <th></th>\n",
              "      <th>rank</th>\n",
              "      <th>cell_type</th>\n",
              "      <th>source</th>\n",
              "    </tr>\n",
              "    <tr>\n",
              "      <th>cell_id</th>\n",
              "      <th></th>\n",
              "      <th></th>\n",
              "      <th></th>\n",
              "    </tr>\n",
              "  </thead>\n",
              "  <tbody>\n",
              "    <tr>\n",
              "      <th>3e551fb7</th>\n",
              "      <td>0</td>\n",
              "      <td>code</td>\n",
              "      <td># This Python 3 environment comes with many helpful analytics libraries installed\\n# It is defined by the kaggle/pyt...</td>\n",
              "    </tr>\n",
              "    <tr>\n",
              "      <th>45049ad8</th>\n",
              "      <td>1</td>\n",
              "      <td>code</td>\n",
              "      <td>train_data = pd.read_csv(\"/kaggle/input/titanic/train.csv\")\\ntest_data = pd.read_csv(\"/kaggle/input/titanic/test.csv\")</td>\n",
              "    </tr>\n",
              "    <tr>\n",
              "      <th>123b4f4c</th>\n",
              "      <td>3</td>\n",
              "      <td>code</td>\n",
              "      <td>import plotly.express as px</td>\n",
              "    </tr>\n",
              "    <tr>\n",
              "      <th>0b92cb59</th>\n",
              "      <td>4</td>\n",
              "      <td>code</td>\n",
              "      <td>train_data.head(20)</td>\n",
              "    </tr>\n",
              "    <tr>\n",
              "      <th>df963df4</th>\n",
              "      <td>6</td>\n",
              "      <td>code</td>\n",
              "      <td>train_data.isnull().sum()  #checking out which column has most no. of NaN Values</td>\n",
              "    </tr>\n",
              "    <tr>\n",
              "      <th>0f3db81b</th>\n",
              "      <td>8</td>\n",
              "      <td>code</td>\n",
              "      <td>px.bar(data_frame=train_data, x='Sex', y='Survived',color='Sex',facet_row_spacing=0, title=\"Relation between Gender ...</td>\n",
              "    </tr>\n",
              "    <tr>\n",
              "      <th>33ff3073</th>\n",
              "      <td>10</td>\n",
              "      <td>code</td>\n",
              "      <td>total_passengers = train_data['Sex'].count()\\ncount_males = 0\\ncount_females = 0\\nfor i,j in zip(train_data['Sex'], ...</td>\n",
              "    </tr>\n",
              "    <tr>\n",
              "      <th>818c4c15</th>\n",
              "      <td>13</td>\n",
              "      <td>code</td>\n",
              "      <td>from sklearn.ensemble import RandomForestClassifier\\n\\n\\ny = train_data[\"Survived\"]\\n\\nfeatures = [\"Pclass\", \"Sex\", ...</td>\n",
              "    </tr>\n",
              "    <tr>\n",
              "      <th>6cfbe868</th>\n",
              "      <td>11</td>\n",
              "      <td>markdown</td>\n",
              "      <td>## Survival Rate for Male Passenger is : 12.235 %\\n\\n## Survival Rate for Female Passenger is : 26.150 %</td>\n",
              "    </tr>\n",
              "    <tr>\n",
              "      <th>eadf5c66</th>\n",
              "      <td>9</td>\n",
              "      <td>markdown</td>\n",
              "      <td>## Who has more luck in here? \\n\\n\\nFrom the above data we can find out that females had more survival rate on Titan...</td>\n",
              "    </tr>\n",
              "    <tr>\n",
              "      <th>3c7d19bc</th>\n",
              "      <td>7</td>\n",
              "      <td>markdown</td>\n",
              "      <td>From the above inference Cabin needs to be either dropped or needs to be filled with Appropriate values</td>\n",
              "    </tr>\n",
              "    <tr>\n",
              "      <th>5a8b6e2d</th>\n",
              "      <td>5</td>\n",
              "      <td>markdown</td>\n",
              "      <td>## EDA is all about asking the right questions\\n\\nWhat are some questions that come to your mind when you're checkin...</td>\n",
              "    </tr>\n",
              "    <tr>\n",
              "      <th>8bb41691</th>\n",
              "      <td>2</td>\n",
              "      <td>markdown</td>\n",
              "      <td>### Checking out the Titanic Dataset \\n</td>\n",
              "    </tr>\n",
              "    <tr>\n",
              "      <th>88cc83b2</th>\n",
              "      <td>12</td>\n",
              "      <td>markdown</td>\n",
              "      <td># Machine Learning Model</td>\n",
              "    </tr>\n",
              "  </tbody>\n",
              "</table>\n",
              "</div>\n",
              "      <button class=\"colab-df-convert\" onclick=\"convertToInteractive('df-fd1a4db6-b802-4640-b4fb-bbaafa8b2f80')\"\n",
              "              title=\"Convert this dataframe to an interactive table.\"\n",
              "              style=\"display:none;\">\n",
              "        \n",
              "  <svg xmlns=\"http://www.w3.org/2000/svg\" height=\"24px\"viewBox=\"0 0 24 24\"\n",
              "       width=\"24px\">\n",
              "    <path d=\"M0 0h24v24H0V0z\" fill=\"none\"/>\n",
              "    <path d=\"M18.56 5.44l.94 2.06.94-2.06 2.06-.94-2.06-.94-.94-2.06-.94 2.06-2.06.94zm-11 1L8.5 8.5l.94-2.06 2.06-.94-2.06-.94L8.5 2.5l-.94 2.06-2.06.94zm10 10l.94 2.06.94-2.06 2.06-.94-2.06-.94-.94-2.06-.94 2.06-2.06.94z\"/><path d=\"M17.41 7.96l-1.37-1.37c-.4-.4-.92-.59-1.43-.59-.52 0-1.04.2-1.43.59L10.3 9.45l-7.72 7.72c-.78.78-.78 2.05 0 2.83L4 21.41c.39.39.9.59 1.41.59.51 0 1.02-.2 1.41-.59l7.78-7.78 2.81-2.81c.8-.78.8-2.07 0-2.86zM5.41 20L4 18.59l7.72-7.72 1.47 1.35L5.41 20z\"/>\n",
              "  </svg>\n",
              "      </button>\n",
              "      \n",
              "  <style>\n",
              "    .colab-df-container {\n",
              "      display:flex;\n",
              "      flex-wrap:wrap;\n",
              "      gap: 12px;\n",
              "    }\n",
              "\n",
              "    .colab-df-convert {\n",
              "      background-color: #E8F0FE;\n",
              "      border: none;\n",
              "      border-radius: 50%;\n",
              "      cursor: pointer;\n",
              "      display: none;\n",
              "      fill: #1967D2;\n",
              "      height: 32px;\n",
              "      padding: 0 0 0 0;\n",
              "      width: 32px;\n",
              "    }\n",
              "\n",
              "    .colab-df-convert:hover {\n",
              "      background-color: #E2EBFA;\n",
              "      box-shadow: 0px 1px 2px rgba(60, 64, 67, 0.3), 0px 1px 3px 1px rgba(60, 64, 67, 0.15);\n",
              "      fill: #174EA6;\n",
              "    }\n",
              "\n",
              "    [theme=dark] .colab-df-convert {\n",
              "      background-color: #3B4455;\n",
              "      fill: #D2E3FC;\n",
              "    }\n",
              "\n",
              "    [theme=dark] .colab-df-convert:hover {\n",
              "      background-color: #434B5C;\n",
              "      box-shadow: 0px 1px 3px 1px rgba(0, 0, 0, 0.15);\n",
              "      filter: drop-shadow(0px 1px 2px rgba(0, 0, 0, 0.3));\n",
              "      fill: #FFFFFF;\n",
              "    }\n",
              "  </style>\n",
              "\n",
              "      <script>\n",
              "        const buttonEl =\n",
              "          document.querySelector('#df-fd1a4db6-b802-4640-b4fb-bbaafa8b2f80 button.colab-df-convert');\n",
              "        buttonEl.style.display =\n",
              "          google.colab.kernel.accessAllowed ? 'block' : 'none';\n",
              "\n",
              "        async function convertToInteractive(key) {\n",
              "          const element = document.querySelector('#df-fd1a4db6-b802-4640-b4fb-bbaafa8b2f80');\n",
              "          const dataTable =\n",
              "            await google.colab.kernel.invokeFunction('convertToInteractive',\n",
              "                                                     [key], {});\n",
              "          if (!dataTable) return;\n",
              "\n",
              "          const docLinkHtml = 'Like what you see? Visit the ' +\n",
              "            '<a target=\"_blank\" href=https://colab.research.google.com/notebooks/data_table.ipynb>data table notebook</a>'\n",
              "            + ' to learn more about interactive tables.';\n",
              "          element.innerHTML = '';\n",
              "          dataTable['output_type'] = 'display_data';\n",
              "          await google.colab.output.renderOutput(dataTable, element);\n",
              "          const docLink = document.createElement('div');\n",
              "          docLink.innerHTML = docLinkHtml;\n",
              "          element.appendChild(docLink);\n",
              "        }\n",
              "      </script>\n",
              "    </div>\n",
              "  </div>\n",
              "  "
            ]
          },
          "metadata": {},
          "execution_count": 20
        }
      ]
    },
    {
      "cell_type": "code",
      "source": [
        "from pandas.testing import assert_frame_equal\n",
        "\n",
        "assert_frame_equal(nb.loc[cell_order, :], nb.sort_values('rank'))"
      ],
      "metadata": {
        "id": "iQi1NaDgVRgX"
      },
      "execution_count": 22,
      "outputs": []
    },
    {
      "cell_type": "code",
      "source": [
        "df_orders_ = df_orders.to_frame().join(\n",
        "    df.reset_index('cell_id').groupby('id')['cell_id'].apply(list),\n",
        "    how='right',\n",
        ")\n",
        "\n",
        "ranks = {}\n",
        "for id_, cell_order, cell_id in df_orders_.itertuples():\n",
        "    ranks[id_] = {'cell_id': cell_id, 'rank': get_ranks(cell_order, cell_id)}\n",
        "\n",
        "df_ranks = (\n",
        "    pd.DataFrame\n",
        "    .from_dict(ranks, orient='index')\n",
        "    .rename_axis('id')\n",
        "    .apply(pd.Series.explode)\n",
        "    .set_index('cell_id', append=True)\n",
        ")\n",
        "\n",
        "df_ranks"
      ],
      "metadata": {
        "colab": {
          "base_uri": "https://localhost:8080/",
          "height": 455
        },
        "id": "g03vdZiCViUT",
        "outputId": "7a3eb802-4106-4958-ed2e-52127d8b0920"
      },
      "execution_count": 23,
      "outputs": [
        {
          "output_type": "execute_result",
          "data": {
            "text/plain": [
              "                        rank\n",
              "id             cell_id      \n",
              "00001756c60be8 1862f0a6    0\n",
              "               2a9e43d6    2\n",
              "               038b763d    4\n",
              "               2eefe0ef    6\n",
              "               0beab1cd    8\n",
              "...                      ...\n",
              "12b925c525495d 84762508   17\n",
              "               bb270083   21\n",
              "               473e430f   14\n",
              "               71181d6d    4\n",
              "               d442a546    7\n",
              "\n",
              "[461676 rows x 1 columns]"
            ],
            "text/html": [
              "\n",
              "  <div id=\"df-aeb37aa9-dfd3-4d5e-a14a-1e63ef59e1a3\">\n",
              "    <div class=\"colab-df-container\">\n",
              "      <div>\n",
              "<style scoped>\n",
              "    .dataframe tbody tr th:only-of-type {\n",
              "        vertical-align: middle;\n",
              "    }\n",
              "\n",
              "    .dataframe tbody tr th {\n",
              "        vertical-align: top;\n",
              "    }\n",
              "\n",
              "    .dataframe thead th {\n",
              "        text-align: right;\n",
              "    }\n",
              "</style>\n",
              "<table border=\"1\" class=\"dataframe\">\n",
              "  <thead>\n",
              "    <tr style=\"text-align: right;\">\n",
              "      <th></th>\n",
              "      <th></th>\n",
              "      <th>rank</th>\n",
              "    </tr>\n",
              "    <tr>\n",
              "      <th>id</th>\n",
              "      <th>cell_id</th>\n",
              "      <th></th>\n",
              "    </tr>\n",
              "  </thead>\n",
              "  <tbody>\n",
              "    <tr>\n",
              "      <th rowspan=\"5\" valign=\"top\">00001756c60be8</th>\n",
              "      <th>1862f0a6</th>\n",
              "      <td>0</td>\n",
              "    </tr>\n",
              "    <tr>\n",
              "      <th>2a9e43d6</th>\n",
              "      <td>2</td>\n",
              "    </tr>\n",
              "    <tr>\n",
              "      <th>038b763d</th>\n",
              "      <td>4</td>\n",
              "    </tr>\n",
              "    <tr>\n",
              "      <th>2eefe0ef</th>\n",
              "      <td>6</td>\n",
              "    </tr>\n",
              "    <tr>\n",
              "      <th>0beab1cd</th>\n",
              "      <td>8</td>\n",
              "    </tr>\n",
              "    <tr>\n",
              "      <th>...</th>\n",
              "      <th>...</th>\n",
              "      <td>...</td>\n",
              "    </tr>\n",
              "    <tr>\n",
              "      <th rowspan=\"5\" valign=\"top\">12b925c525495d</th>\n",
              "      <th>84762508</th>\n",
              "      <td>17</td>\n",
              "    </tr>\n",
              "    <tr>\n",
              "      <th>bb270083</th>\n",
              "      <td>21</td>\n",
              "    </tr>\n",
              "    <tr>\n",
              "      <th>473e430f</th>\n",
              "      <td>14</td>\n",
              "    </tr>\n",
              "    <tr>\n",
              "      <th>71181d6d</th>\n",
              "      <td>4</td>\n",
              "    </tr>\n",
              "    <tr>\n",
              "      <th>d442a546</th>\n",
              "      <td>7</td>\n",
              "    </tr>\n",
              "  </tbody>\n",
              "</table>\n",
              "<p>461676 rows × 1 columns</p>\n",
              "</div>\n",
              "      <button class=\"colab-df-convert\" onclick=\"convertToInteractive('df-aeb37aa9-dfd3-4d5e-a14a-1e63ef59e1a3')\"\n",
              "              title=\"Convert this dataframe to an interactive table.\"\n",
              "              style=\"display:none;\">\n",
              "        \n",
              "  <svg xmlns=\"http://www.w3.org/2000/svg\" height=\"24px\"viewBox=\"0 0 24 24\"\n",
              "       width=\"24px\">\n",
              "    <path d=\"M0 0h24v24H0V0z\" fill=\"none\"/>\n",
              "    <path d=\"M18.56 5.44l.94 2.06.94-2.06 2.06-.94-2.06-.94-.94-2.06-.94 2.06-2.06.94zm-11 1L8.5 8.5l.94-2.06 2.06-.94-2.06-.94L8.5 2.5l-.94 2.06-2.06.94zm10 10l.94 2.06.94-2.06 2.06-.94-2.06-.94-.94-2.06-.94 2.06-2.06.94z\"/><path d=\"M17.41 7.96l-1.37-1.37c-.4-.4-.92-.59-1.43-.59-.52 0-1.04.2-1.43.59L10.3 9.45l-7.72 7.72c-.78.78-.78 2.05 0 2.83L4 21.41c.39.39.9.59 1.41.59.51 0 1.02-.2 1.41-.59l7.78-7.78 2.81-2.81c.8-.78.8-2.07 0-2.86zM5.41 20L4 18.59l7.72-7.72 1.47 1.35L5.41 20z\"/>\n",
              "  </svg>\n",
              "      </button>\n",
              "      \n",
              "  <style>\n",
              "    .colab-df-container {\n",
              "      display:flex;\n",
              "      flex-wrap:wrap;\n",
              "      gap: 12px;\n",
              "    }\n",
              "\n",
              "    .colab-df-convert {\n",
              "      background-color: #E8F0FE;\n",
              "      border: none;\n",
              "      border-radius: 50%;\n",
              "      cursor: pointer;\n",
              "      display: none;\n",
              "      fill: #1967D2;\n",
              "      height: 32px;\n",
              "      padding: 0 0 0 0;\n",
              "      width: 32px;\n",
              "    }\n",
              "\n",
              "    .colab-df-convert:hover {\n",
              "      background-color: #E2EBFA;\n",
              "      box-shadow: 0px 1px 2px rgba(60, 64, 67, 0.3), 0px 1px 3px 1px rgba(60, 64, 67, 0.15);\n",
              "      fill: #174EA6;\n",
              "    }\n",
              "\n",
              "    [theme=dark] .colab-df-convert {\n",
              "      background-color: #3B4455;\n",
              "      fill: #D2E3FC;\n",
              "    }\n",
              "\n",
              "    [theme=dark] .colab-df-convert:hover {\n",
              "      background-color: #434B5C;\n",
              "      box-shadow: 0px 1px 3px 1px rgba(0, 0, 0, 0.15);\n",
              "      filter: drop-shadow(0px 1px 2px rgba(0, 0, 0, 0.3));\n",
              "      fill: #FFFFFF;\n",
              "    }\n",
              "  </style>\n",
              "\n",
              "      <script>\n",
              "        const buttonEl =\n",
              "          document.querySelector('#df-aeb37aa9-dfd3-4d5e-a14a-1e63ef59e1a3 button.colab-df-convert');\n",
              "        buttonEl.style.display =\n",
              "          google.colab.kernel.accessAllowed ? 'block' : 'none';\n",
              "\n",
              "        async function convertToInteractive(key) {\n",
              "          const element = document.querySelector('#df-aeb37aa9-dfd3-4d5e-a14a-1e63ef59e1a3');\n",
              "          const dataTable =\n",
              "            await google.colab.kernel.invokeFunction('convertToInteractive',\n",
              "                                                     [key], {});\n",
              "          if (!dataTable) return;\n",
              "\n",
              "          const docLinkHtml = 'Like what you see? Visit the ' +\n",
              "            '<a target=\"_blank\" href=https://colab.research.google.com/notebooks/data_table.ipynb>data table notebook</a>'\n",
              "            + ' to learn more about interactive tables.';\n",
              "          element.innerHTML = '';\n",
              "          dataTable['output_type'] = 'display_data';\n",
              "          await google.colab.output.renderOutput(dataTable, element);\n",
              "          const docLink = document.createElement('div');\n",
              "          docLink.innerHTML = docLinkHtml;\n",
              "          element.appendChild(docLink);\n",
              "        }\n",
              "      </script>\n",
              "    </div>\n",
              "  </div>\n",
              "  "
            ]
          },
          "metadata": {},
          "execution_count": 23
        }
      ]
    },
    {
      "cell_type": "markdown",
      "source": [
        "# Splits #"
      ],
      "metadata": {
        "id": "CGAgYp9IImYS"
      }
    },
    {
      "cell_type": "markdown",
      "source": [
        "The `df_ancestors.csv` file identifies groups of notebooks derived from a common origin, that is, notebooks belonging to the same forking tree."
      ],
      "metadata": {
        "id": "42eItQZchsnT"
      }
    },
    {
      "cell_type": "code",
      "source": [
        "df_ancestors = pd.read_csv(data_dir / 'train_ancestors.csv', index_col='id')"
      ],
      "metadata": {
        "id": "3TzvAwSyVpyA"
      },
      "execution_count": 24,
      "outputs": []
    },
    {
      "cell_type": "code",
      "source": [
        "df_ancestors"
      ],
      "metadata": {
        "colab": {
          "base_uri": "https://localhost:8080/",
          "height": 455
        },
        "id": "mnOn0YpiVy6I",
        "outputId": "0314bb07-3a08-454b-a039-4cd605a5de22"
      },
      "execution_count": 25,
      "outputs": [
        {
          "output_type": "execute_result",
          "data": {
            "text/plain": [
              "               ancestor_id       parent_id\n",
              "id                                        \n",
              "00001756c60be8    945aea18             NaN\n",
              "00015c83e2717b    aa2da37e  317b65d12af9df\n",
              "0001bdd4021779    a7711fde             NaN\n",
              "0001daf4c2c76d    090152ca             NaN\n",
              "0002115f48f982    272b483a             NaN\n",
              "...                    ...             ...\n",
              "fffc30d5a0bc46    6aed207b             NaN\n",
              "fffc3b44869198    a6aaa8d7             NaN\n",
              "fffc63ff750064    0a1b5b65             NaN\n",
              "fffcd063cda949    d971e960             NaN\n",
              "fffe1d764579d5    3c40bfa6             NaN\n",
              "\n",
              "[139256 rows x 2 columns]"
            ],
            "text/html": [
              "\n",
              "  <div id=\"df-8a552301-2b7f-44b5-b16e-dc9a033b023e\">\n",
              "    <div class=\"colab-df-container\">\n",
              "      <div>\n",
              "<style scoped>\n",
              "    .dataframe tbody tr th:only-of-type {\n",
              "        vertical-align: middle;\n",
              "    }\n",
              "\n",
              "    .dataframe tbody tr th {\n",
              "        vertical-align: top;\n",
              "    }\n",
              "\n",
              "    .dataframe thead th {\n",
              "        text-align: right;\n",
              "    }\n",
              "</style>\n",
              "<table border=\"1\" class=\"dataframe\">\n",
              "  <thead>\n",
              "    <tr style=\"text-align: right;\">\n",
              "      <th></th>\n",
              "      <th>ancestor_id</th>\n",
              "      <th>parent_id</th>\n",
              "    </tr>\n",
              "    <tr>\n",
              "      <th>id</th>\n",
              "      <th></th>\n",
              "      <th></th>\n",
              "    </tr>\n",
              "  </thead>\n",
              "  <tbody>\n",
              "    <tr>\n",
              "      <th>00001756c60be8</th>\n",
              "      <td>945aea18</td>\n",
              "      <td>NaN</td>\n",
              "    </tr>\n",
              "    <tr>\n",
              "      <th>00015c83e2717b</th>\n",
              "      <td>aa2da37e</td>\n",
              "      <td>317b65d12af9df</td>\n",
              "    </tr>\n",
              "    <tr>\n",
              "      <th>0001bdd4021779</th>\n",
              "      <td>a7711fde</td>\n",
              "      <td>NaN</td>\n",
              "    </tr>\n",
              "    <tr>\n",
              "      <th>0001daf4c2c76d</th>\n",
              "      <td>090152ca</td>\n",
              "      <td>NaN</td>\n",
              "    </tr>\n",
              "    <tr>\n",
              "      <th>0002115f48f982</th>\n",
              "      <td>272b483a</td>\n",
              "      <td>NaN</td>\n",
              "    </tr>\n",
              "    <tr>\n",
              "      <th>...</th>\n",
              "      <td>...</td>\n",
              "      <td>...</td>\n",
              "    </tr>\n",
              "    <tr>\n",
              "      <th>fffc30d5a0bc46</th>\n",
              "      <td>6aed207b</td>\n",
              "      <td>NaN</td>\n",
              "    </tr>\n",
              "    <tr>\n",
              "      <th>fffc3b44869198</th>\n",
              "      <td>a6aaa8d7</td>\n",
              "      <td>NaN</td>\n",
              "    </tr>\n",
              "    <tr>\n",
              "      <th>fffc63ff750064</th>\n",
              "      <td>0a1b5b65</td>\n",
              "      <td>NaN</td>\n",
              "    </tr>\n",
              "    <tr>\n",
              "      <th>fffcd063cda949</th>\n",
              "      <td>d971e960</td>\n",
              "      <td>NaN</td>\n",
              "    </tr>\n",
              "    <tr>\n",
              "      <th>fffe1d764579d5</th>\n",
              "      <td>3c40bfa6</td>\n",
              "      <td>NaN</td>\n",
              "    </tr>\n",
              "  </tbody>\n",
              "</table>\n",
              "<p>139256 rows × 2 columns</p>\n",
              "</div>\n",
              "      <button class=\"colab-df-convert\" onclick=\"convertToInteractive('df-8a552301-2b7f-44b5-b16e-dc9a033b023e')\"\n",
              "              title=\"Convert this dataframe to an interactive table.\"\n",
              "              style=\"display:none;\">\n",
              "        \n",
              "  <svg xmlns=\"http://www.w3.org/2000/svg\" height=\"24px\"viewBox=\"0 0 24 24\"\n",
              "       width=\"24px\">\n",
              "    <path d=\"M0 0h24v24H0V0z\" fill=\"none\"/>\n",
              "    <path d=\"M18.56 5.44l.94 2.06.94-2.06 2.06-.94-2.06-.94-.94-2.06-.94 2.06-2.06.94zm-11 1L8.5 8.5l.94-2.06 2.06-.94-2.06-.94L8.5 2.5l-.94 2.06-2.06.94zm10 10l.94 2.06.94-2.06 2.06-.94-2.06-.94-.94-2.06-.94 2.06-2.06.94z\"/><path d=\"M17.41 7.96l-1.37-1.37c-.4-.4-.92-.59-1.43-.59-.52 0-1.04.2-1.43.59L10.3 9.45l-7.72 7.72c-.78.78-.78 2.05 0 2.83L4 21.41c.39.39.9.59 1.41.59.51 0 1.02-.2 1.41-.59l7.78-7.78 2.81-2.81c.8-.78.8-2.07 0-2.86zM5.41 20L4 18.59l7.72-7.72 1.47 1.35L5.41 20z\"/>\n",
              "  </svg>\n",
              "      </button>\n",
              "      \n",
              "  <style>\n",
              "    .colab-df-container {\n",
              "      display:flex;\n",
              "      flex-wrap:wrap;\n",
              "      gap: 12px;\n",
              "    }\n",
              "\n",
              "    .colab-df-convert {\n",
              "      background-color: #E8F0FE;\n",
              "      border: none;\n",
              "      border-radius: 50%;\n",
              "      cursor: pointer;\n",
              "      display: none;\n",
              "      fill: #1967D2;\n",
              "      height: 32px;\n",
              "      padding: 0 0 0 0;\n",
              "      width: 32px;\n",
              "    }\n",
              "\n",
              "    .colab-df-convert:hover {\n",
              "      background-color: #E2EBFA;\n",
              "      box-shadow: 0px 1px 2px rgba(60, 64, 67, 0.3), 0px 1px 3px 1px rgba(60, 64, 67, 0.15);\n",
              "      fill: #174EA6;\n",
              "    }\n",
              "\n",
              "    [theme=dark] .colab-df-convert {\n",
              "      background-color: #3B4455;\n",
              "      fill: #D2E3FC;\n",
              "    }\n",
              "\n",
              "    [theme=dark] .colab-df-convert:hover {\n",
              "      background-color: #434B5C;\n",
              "      box-shadow: 0px 1px 3px 1px rgba(0, 0, 0, 0.15);\n",
              "      filter: drop-shadow(0px 1px 2px rgba(0, 0, 0, 0.3));\n",
              "      fill: #FFFFFF;\n",
              "    }\n",
              "  </style>\n",
              "\n",
              "      <script>\n",
              "        const buttonEl =\n",
              "          document.querySelector('#df-8a552301-2b7f-44b5-b16e-dc9a033b023e button.colab-df-convert');\n",
              "        buttonEl.style.display =\n",
              "          google.colab.kernel.accessAllowed ? 'block' : 'none';\n",
              "\n",
              "        async function convertToInteractive(key) {\n",
              "          const element = document.querySelector('#df-8a552301-2b7f-44b5-b16e-dc9a033b023e');\n",
              "          const dataTable =\n",
              "            await google.colab.kernel.invokeFunction('convertToInteractive',\n",
              "                                                     [key], {});\n",
              "          if (!dataTable) return;\n",
              "\n",
              "          const docLinkHtml = 'Like what you see? Visit the ' +\n",
              "            '<a target=\"_blank\" href=https://colab.research.google.com/notebooks/data_table.ipynb>data table notebook</a>'\n",
              "            + ' to learn more about interactive tables.';\n",
              "          element.innerHTML = '';\n",
              "          dataTable['output_type'] = 'display_data';\n",
              "          await google.colab.output.renderOutput(dataTable, element);\n",
              "          const docLink = document.createElement('div');\n",
              "          docLink.innerHTML = docLinkHtml;\n",
              "          element.appendChild(docLink);\n",
              "        }\n",
              "      </script>\n",
              "    </div>\n",
              "  </div>\n",
              "  "
            ]
          },
          "metadata": {},
          "execution_count": 25
        }
      ]
    },
    {
      "cell_type": "code",
      "source": [
        "from sklearn.model_selection import GroupShuffleSplit\n",
        "\n",
        "NVALID = 0.1  # size of validation set\n",
        "\n",
        "splitter = GroupShuffleSplit(n_splits=1, test_size=NVALID, random_state=0)\n",
        "\n",
        "# Split, keeping notebooks with a common origin (ancestor_id) together\n",
        "ids = df.index.unique('id')\n",
        "ancestors = df_ancestors.loc[ids, 'ancestor_id']\n",
        "ids_train, ids_valid = next(splitter.split(ids, groups=ancestors))\n",
        "ids_train, ids_valid = ids[ids_train], ids[ids_valid]\n",
        "\n",
        "df_train = df.loc[ids_train, :]\n",
        "df_valid = df.loc[ids_valid, :]"
      ],
      "metadata": {
        "id": "0_lV8Hu1V1N0"
      },
      "execution_count": 26,
      "outputs": []
    },
    {
      "cell_type": "code",
      "source": [
        "df_valid"
      ],
      "metadata": {
        "colab": {
          "base_uri": "https://localhost:8080/",
          "height": 455
        },
        "id": "aY5GBdVOWfn3",
        "outputId": "28544878-72c5-464a-8448-659b0002ceb8"
      },
      "execution_count": 32,
      "outputs": [
        {
          "output_type": "execute_result",
          "data": {
            "text/plain": [
              "                        cell_type                                                                                                                   source\n",
              "id             cell_id                                                                                                                                    \n",
              "000757b90aaca0 8f84d7a9      code  import pandas as pd\\nimport spacy\\nimport networkx as nx                        # a really useful network analysis l...\n",
              "               eb6ca769      code  nlp = spacy.load('en_core_web_lg')           # A more detailed model (with higher-dimension word vectors) - 13s to l...\n",
              "               bc595bc2      code                            plt.rcParams['figure.figsize'] = [10, 10]  # makes the output plots large enough to be useful\n",
              "               93cceeef      code  rowlimit = 500              # this limits the tweets to a manageable number\\ndata = pd.read_csv('../input/ExtractedT...\n",
              "               3cb3d383      code                                                                                                             data.head(6)\n",
              "...                           ...                                                                                                                      ...\n",
              "1292c88558dbc8 15290200  markdown                                                                                                     # 2. Import Datasets\n",
              "               affda817  markdown                                                                                                        # Data Dictionary\n",
              "               0d9947c2  markdown  <b>We notice from the plot most the word frequancies are the common word. and that's will not help us to understand ...\n",
              "               af4b2ad7  markdown                                                                      ## 3.5 Print Selective Rows from Non-Toxic Comments\n",
              "               03a8f940  markdown  <b>To find the most common toxic words in the dataset, we used stopword function to remove common words like the, a,...\n",
              "\n",
              "[44966 rows x 2 columns]"
            ],
            "text/html": [
              "\n",
              "  <div id=\"df-a48d9312-78ab-4ab2-ad1f-24e4d2dcc46b\">\n",
              "    <div class=\"colab-df-container\">\n",
              "      <div>\n",
              "<style scoped>\n",
              "    .dataframe tbody tr th:only-of-type {\n",
              "        vertical-align: middle;\n",
              "    }\n",
              "\n",
              "    .dataframe tbody tr th {\n",
              "        vertical-align: top;\n",
              "    }\n",
              "\n",
              "    .dataframe thead th {\n",
              "        text-align: right;\n",
              "    }\n",
              "</style>\n",
              "<table border=\"1\" class=\"dataframe\">\n",
              "  <thead>\n",
              "    <tr style=\"text-align: right;\">\n",
              "      <th></th>\n",
              "      <th></th>\n",
              "      <th>cell_type</th>\n",
              "      <th>source</th>\n",
              "    </tr>\n",
              "    <tr>\n",
              "      <th>id</th>\n",
              "      <th>cell_id</th>\n",
              "      <th></th>\n",
              "      <th></th>\n",
              "    </tr>\n",
              "  </thead>\n",
              "  <tbody>\n",
              "    <tr>\n",
              "      <th rowspan=\"5\" valign=\"top\">000757b90aaca0</th>\n",
              "      <th>8f84d7a9</th>\n",
              "      <td>code</td>\n",
              "      <td>import pandas as pd\\nimport spacy\\nimport networkx as nx                        # a really useful network analysis l...</td>\n",
              "    </tr>\n",
              "    <tr>\n",
              "      <th>eb6ca769</th>\n",
              "      <td>code</td>\n",
              "      <td>nlp = spacy.load('en_core_web_lg')           # A more detailed model (with higher-dimension word vectors) - 13s to l...</td>\n",
              "    </tr>\n",
              "    <tr>\n",
              "      <th>bc595bc2</th>\n",
              "      <td>code</td>\n",
              "      <td>plt.rcParams['figure.figsize'] = [10, 10]  # makes the output plots large enough to be useful</td>\n",
              "    </tr>\n",
              "    <tr>\n",
              "      <th>93cceeef</th>\n",
              "      <td>code</td>\n",
              "      <td>rowlimit = 500              # this limits the tweets to a manageable number\\ndata = pd.read_csv('../input/ExtractedT...</td>\n",
              "    </tr>\n",
              "    <tr>\n",
              "      <th>3cb3d383</th>\n",
              "      <td>code</td>\n",
              "      <td>data.head(6)</td>\n",
              "    </tr>\n",
              "    <tr>\n",
              "      <th>...</th>\n",
              "      <th>...</th>\n",
              "      <td>...</td>\n",
              "      <td>...</td>\n",
              "    </tr>\n",
              "    <tr>\n",
              "      <th rowspan=\"5\" valign=\"top\">1292c88558dbc8</th>\n",
              "      <th>15290200</th>\n",
              "      <td>markdown</td>\n",
              "      <td># 2. Import Datasets</td>\n",
              "    </tr>\n",
              "    <tr>\n",
              "      <th>affda817</th>\n",
              "      <td>markdown</td>\n",
              "      <td># Data Dictionary</td>\n",
              "    </tr>\n",
              "    <tr>\n",
              "      <th>0d9947c2</th>\n",
              "      <td>markdown</td>\n",
              "      <td>&lt;b&gt;We notice from the plot most the word frequancies are the common word. and that's will not help us to understand ...</td>\n",
              "    </tr>\n",
              "    <tr>\n",
              "      <th>af4b2ad7</th>\n",
              "      <td>markdown</td>\n",
              "      <td>## 3.5 Print Selective Rows from Non-Toxic Comments</td>\n",
              "    </tr>\n",
              "    <tr>\n",
              "      <th>03a8f940</th>\n",
              "      <td>markdown</td>\n",
              "      <td>&lt;b&gt;To find the most common toxic words in the dataset, we used stopword function to remove common words like the, a,...</td>\n",
              "    </tr>\n",
              "  </tbody>\n",
              "</table>\n",
              "<p>44966 rows × 2 columns</p>\n",
              "</div>\n",
              "      <button class=\"colab-df-convert\" onclick=\"convertToInteractive('df-a48d9312-78ab-4ab2-ad1f-24e4d2dcc46b')\"\n",
              "              title=\"Convert this dataframe to an interactive table.\"\n",
              "              style=\"display:none;\">\n",
              "        \n",
              "  <svg xmlns=\"http://www.w3.org/2000/svg\" height=\"24px\"viewBox=\"0 0 24 24\"\n",
              "       width=\"24px\">\n",
              "    <path d=\"M0 0h24v24H0V0z\" fill=\"none\"/>\n",
              "    <path d=\"M18.56 5.44l.94 2.06.94-2.06 2.06-.94-2.06-.94-.94-2.06-.94 2.06-2.06.94zm-11 1L8.5 8.5l.94-2.06 2.06-.94-2.06-.94L8.5 2.5l-.94 2.06-2.06.94zm10 10l.94 2.06.94-2.06 2.06-.94-2.06-.94-.94-2.06-.94 2.06-2.06.94z\"/><path d=\"M17.41 7.96l-1.37-1.37c-.4-.4-.92-.59-1.43-.59-.52 0-1.04.2-1.43.59L10.3 9.45l-7.72 7.72c-.78.78-.78 2.05 0 2.83L4 21.41c.39.39.9.59 1.41.59.51 0 1.02-.2 1.41-.59l7.78-7.78 2.81-2.81c.8-.78.8-2.07 0-2.86zM5.41 20L4 18.59l7.72-7.72 1.47 1.35L5.41 20z\"/>\n",
              "  </svg>\n",
              "      </button>\n",
              "      \n",
              "  <style>\n",
              "    .colab-df-container {\n",
              "      display:flex;\n",
              "      flex-wrap:wrap;\n",
              "      gap: 12px;\n",
              "    }\n",
              "\n",
              "    .colab-df-convert {\n",
              "      background-color: #E8F0FE;\n",
              "      border: none;\n",
              "      border-radius: 50%;\n",
              "      cursor: pointer;\n",
              "      display: none;\n",
              "      fill: #1967D2;\n",
              "      height: 32px;\n",
              "      padding: 0 0 0 0;\n",
              "      width: 32px;\n",
              "    }\n",
              "\n",
              "    .colab-df-convert:hover {\n",
              "      background-color: #E2EBFA;\n",
              "      box-shadow: 0px 1px 2px rgba(60, 64, 67, 0.3), 0px 1px 3px 1px rgba(60, 64, 67, 0.15);\n",
              "      fill: #174EA6;\n",
              "    }\n",
              "\n",
              "    [theme=dark] .colab-df-convert {\n",
              "      background-color: #3B4455;\n",
              "      fill: #D2E3FC;\n",
              "    }\n",
              "\n",
              "    [theme=dark] .colab-df-convert:hover {\n",
              "      background-color: #434B5C;\n",
              "      box-shadow: 0px 1px 3px 1px rgba(0, 0, 0, 0.15);\n",
              "      filter: drop-shadow(0px 1px 2px rgba(0, 0, 0, 0.3));\n",
              "      fill: #FFFFFF;\n",
              "    }\n",
              "  </style>\n",
              "\n",
              "      <script>\n",
              "        const buttonEl =\n",
              "          document.querySelector('#df-a48d9312-78ab-4ab2-ad1f-24e4d2dcc46b button.colab-df-convert');\n",
              "        buttonEl.style.display =\n",
              "          google.colab.kernel.accessAllowed ? 'block' : 'none';\n",
              "\n",
              "        async function convertToInteractive(key) {\n",
              "          const element = document.querySelector('#df-a48d9312-78ab-4ab2-ad1f-24e4d2dcc46b');\n",
              "          const dataTable =\n",
              "            await google.colab.kernel.invokeFunction('convertToInteractive',\n",
              "                                                     [key], {});\n",
              "          if (!dataTable) return;\n",
              "\n",
              "          const docLinkHtml = 'Like what you see? Visit the ' +\n",
              "            '<a target=\"_blank\" href=https://colab.research.google.com/notebooks/data_table.ipynb>data table notebook</a>'\n",
              "            + ' to learn more about interactive tables.';\n",
              "          element.innerHTML = '';\n",
              "          dataTable['output_type'] = 'display_data';\n",
              "          await google.colab.output.renderOutput(dataTable, element);\n",
              "          const docLink = document.createElement('div');\n",
              "          docLink.innerHTML = docLinkHtml;\n",
              "          element.appendChild(docLink);\n",
              "        }\n",
              "      </script>\n",
              "    </div>\n",
              "  </div>\n",
              "  "
            ]
          },
          "metadata": {},
          "execution_count": 32
        }
      ]
    },
    {
      "cell_type": "markdown",
      "source": [
        "# Feature Engineering #\n",
        "\n",
        "Let's generate [tf-idf features](https://scikit-learn.org/stable/modules/generated/sklearn.feature_extraction.text.TfidfTransformer.html#sklearn.feature_extraction.text.TfidfTransformer) to use with our ranking model. These features will help our model learn what kinds of words tend to occur most often at various positions within a notebook."
      ],
      "metadata": {
        "id": "aQ8y8KDdImYT"
      }
    },
    {
      "cell_type": "markdown",
      "source": [
        "## AI4Code Extract all functions, variables... names\n",
        "\n",
        "\n",
        "(see, https://www.kaggle.com/code/haithamaliryan/ai4code-extract-all-functions-variables-names) Upvote if this is useful to you."
      ],
      "metadata": {
        "id": "rDYFCDZnWImC"
      }
    },
    {
      "cell_type": "code",
      "source": [
        "from sklearn.feature_extraction.text import TfidfVectorizer\n",
        "\n",
        "# Training set\n",
        "tfidf = TfidfVectorizer(min_df=0.01)\n",
        "X_train = tfidf.fit_transform(df_train['source'].astype(str))\n",
        "# Rank of each cell within the notebook\n",
        "y_train = df_ranks.loc[ids_train].to_numpy()\n",
        "# Number of cells in each notebook\n",
        "groups = df_ranks.loc[ids_train].groupby('id').size().to_numpy()"
      ],
      "metadata": {
        "jupyter": {
          "outputs_hidden": false
        },
        "execution": {
          "iopub.status.busy": "2022-06-22T20:29:46.318074Z",
          "iopub.execute_input": "2022-06-22T20:29:46.318351Z",
          "iopub.status.idle": "2022-06-22T20:29:58.892557Z",
          "shell.execute_reply.started": "2022-06-22T20:29:46.318322Z",
          "shell.execute_reply": "2022-06-22T20:29:58.891665Z"
        },
        "trusted": true,
        "id": "8noqbAwKImYT"
      },
      "execution_count": 28,
      "outputs": []
    },
    {
      "cell_type": "markdown",
      "source": [
        "Now let's add the code cell ordering as a feature. We'll append a column that enumerates the code cells in the correct order, like `1, 2, 3, 4, ...`, while having the dummy value `0` for all markdown cells. This feature will help the model learn to put the code cells in the correct order."
      ],
      "metadata": {
        "id": "t_Kyp01rImYU"
      }
    },
    {
      "cell_type": "code",
      "source": [
        "code=nb.loc[nb.cell_type==\"code\"]"
      ],
      "metadata": {
        "id": "UKNxRK1gTHBi"
      },
      "execution_count": 33,
      "outputs": []
    },
    {
      "cell_type": "code",
      "source": [
        "code"
      ],
      "metadata": {
        "colab": {
          "base_uri": "https://localhost:8080/",
          "height": 332
        },
        "id": "Ox6AnMJsalRf",
        "outputId": "9d686adf-1e64-44d3-d83d-c09063be694f"
      },
      "execution_count": 34,
      "outputs": [
        {
          "output_type": "execute_result",
          "data": {
            "text/plain": [
              "          rank cell_type                                                                                                                   source\n",
              "cell_id                                                                                                                                          \n",
              "3e551fb7     0      code  # This Python 3 environment comes with many helpful analytics libraries installed\\n# It is defined by the kaggle/pyt...\n",
              "45049ad8     1      code   train_data = pd.read_csv(\"/kaggle/input/titanic/train.csv\")\\ntest_data = pd.read_csv(\"/kaggle/input/titanic/test.csv\")\n",
              "123b4f4c     3      code                                                                                              import plotly.express as px\n",
              "0b92cb59     4      code                                                                                                      train_data.head(20)\n",
              "df963df4     6      code                                         train_data.isnull().sum()  #checking out which column has most no. of NaN Values\n",
              "0f3db81b     8      code  px.bar(data_frame=train_data, x='Sex', y='Survived',color='Sex',facet_row_spacing=0, title=\"Relation between Gender ...\n",
              "33ff3073    10      code  total_passengers = train_data['Sex'].count()\\ncount_males = 0\\ncount_females = 0\\nfor i,j in zip(train_data['Sex'], ...\n",
              "818c4c15    13      code  from sklearn.ensemble import RandomForestClassifier\\n\\n\\ny = train_data[\"Survived\"]\\n\\nfeatures = [\"Pclass\", \"Sex\", ..."
            ],
            "text/html": [
              "\n",
              "  <div id=\"df-3708c58d-62a4-41c5-8472-0510478382aa\">\n",
              "    <div class=\"colab-df-container\">\n",
              "      <div>\n",
              "<style scoped>\n",
              "    .dataframe tbody tr th:only-of-type {\n",
              "        vertical-align: middle;\n",
              "    }\n",
              "\n",
              "    .dataframe tbody tr th {\n",
              "        vertical-align: top;\n",
              "    }\n",
              "\n",
              "    .dataframe thead th {\n",
              "        text-align: right;\n",
              "    }\n",
              "</style>\n",
              "<table border=\"1\" class=\"dataframe\">\n",
              "  <thead>\n",
              "    <tr style=\"text-align: right;\">\n",
              "      <th></th>\n",
              "      <th>rank</th>\n",
              "      <th>cell_type</th>\n",
              "      <th>source</th>\n",
              "    </tr>\n",
              "    <tr>\n",
              "      <th>cell_id</th>\n",
              "      <th></th>\n",
              "      <th></th>\n",
              "      <th></th>\n",
              "    </tr>\n",
              "  </thead>\n",
              "  <tbody>\n",
              "    <tr>\n",
              "      <th>3e551fb7</th>\n",
              "      <td>0</td>\n",
              "      <td>code</td>\n",
              "      <td># This Python 3 environment comes with many helpful analytics libraries installed\\n# It is defined by the kaggle/pyt...</td>\n",
              "    </tr>\n",
              "    <tr>\n",
              "      <th>45049ad8</th>\n",
              "      <td>1</td>\n",
              "      <td>code</td>\n",
              "      <td>train_data = pd.read_csv(\"/kaggle/input/titanic/train.csv\")\\ntest_data = pd.read_csv(\"/kaggle/input/titanic/test.csv\")</td>\n",
              "    </tr>\n",
              "    <tr>\n",
              "      <th>123b4f4c</th>\n",
              "      <td>3</td>\n",
              "      <td>code</td>\n",
              "      <td>import plotly.express as px</td>\n",
              "    </tr>\n",
              "    <tr>\n",
              "      <th>0b92cb59</th>\n",
              "      <td>4</td>\n",
              "      <td>code</td>\n",
              "      <td>train_data.head(20)</td>\n",
              "    </tr>\n",
              "    <tr>\n",
              "      <th>df963df4</th>\n",
              "      <td>6</td>\n",
              "      <td>code</td>\n",
              "      <td>train_data.isnull().sum()  #checking out which column has most no. of NaN Values</td>\n",
              "    </tr>\n",
              "    <tr>\n",
              "      <th>0f3db81b</th>\n",
              "      <td>8</td>\n",
              "      <td>code</td>\n",
              "      <td>px.bar(data_frame=train_data, x='Sex', y='Survived',color='Sex',facet_row_spacing=0, title=\"Relation between Gender ...</td>\n",
              "    </tr>\n",
              "    <tr>\n",
              "      <th>33ff3073</th>\n",
              "      <td>10</td>\n",
              "      <td>code</td>\n",
              "      <td>total_passengers = train_data['Sex'].count()\\ncount_males = 0\\ncount_females = 0\\nfor i,j in zip(train_data['Sex'], ...</td>\n",
              "    </tr>\n",
              "    <tr>\n",
              "      <th>818c4c15</th>\n",
              "      <td>13</td>\n",
              "      <td>code</td>\n",
              "      <td>from sklearn.ensemble import RandomForestClassifier\\n\\n\\ny = train_data[\"Survived\"]\\n\\nfeatures = [\"Pclass\", \"Sex\", ...</td>\n",
              "    </tr>\n",
              "  </tbody>\n",
              "</table>\n",
              "</div>\n",
              "      <button class=\"colab-df-convert\" onclick=\"convertToInteractive('df-3708c58d-62a4-41c5-8472-0510478382aa')\"\n",
              "              title=\"Convert this dataframe to an interactive table.\"\n",
              "              style=\"display:none;\">\n",
              "        \n",
              "  <svg xmlns=\"http://www.w3.org/2000/svg\" height=\"24px\"viewBox=\"0 0 24 24\"\n",
              "       width=\"24px\">\n",
              "    <path d=\"M0 0h24v24H0V0z\" fill=\"none\"/>\n",
              "    <path d=\"M18.56 5.44l.94 2.06.94-2.06 2.06-.94-2.06-.94-.94-2.06-.94 2.06-2.06.94zm-11 1L8.5 8.5l.94-2.06 2.06-.94-2.06-.94L8.5 2.5l-.94 2.06-2.06.94zm10 10l.94 2.06.94-2.06 2.06-.94-2.06-.94-.94-2.06-.94 2.06-2.06.94z\"/><path d=\"M17.41 7.96l-1.37-1.37c-.4-.4-.92-.59-1.43-.59-.52 0-1.04.2-1.43.59L10.3 9.45l-7.72 7.72c-.78.78-.78 2.05 0 2.83L4 21.41c.39.39.9.59 1.41.59.51 0 1.02-.2 1.41-.59l7.78-7.78 2.81-2.81c.8-.78.8-2.07 0-2.86zM5.41 20L4 18.59l7.72-7.72 1.47 1.35L5.41 20z\"/>\n",
              "  </svg>\n",
              "      </button>\n",
              "      \n",
              "  <style>\n",
              "    .colab-df-container {\n",
              "      display:flex;\n",
              "      flex-wrap:wrap;\n",
              "      gap: 12px;\n",
              "    }\n",
              "\n",
              "    .colab-df-convert {\n",
              "      background-color: #E8F0FE;\n",
              "      border: none;\n",
              "      border-radius: 50%;\n",
              "      cursor: pointer;\n",
              "      display: none;\n",
              "      fill: #1967D2;\n",
              "      height: 32px;\n",
              "      padding: 0 0 0 0;\n",
              "      width: 32px;\n",
              "    }\n",
              "\n",
              "    .colab-df-convert:hover {\n",
              "      background-color: #E2EBFA;\n",
              "      box-shadow: 0px 1px 2px rgba(60, 64, 67, 0.3), 0px 1px 3px 1px rgba(60, 64, 67, 0.15);\n",
              "      fill: #174EA6;\n",
              "    }\n",
              "\n",
              "    [theme=dark] .colab-df-convert {\n",
              "      background-color: #3B4455;\n",
              "      fill: #D2E3FC;\n",
              "    }\n",
              "\n",
              "    [theme=dark] .colab-df-convert:hover {\n",
              "      background-color: #434B5C;\n",
              "      box-shadow: 0px 1px 3px 1px rgba(0, 0, 0, 0.15);\n",
              "      filter: drop-shadow(0px 1px 2px rgba(0, 0, 0, 0.3));\n",
              "      fill: #FFFFFF;\n",
              "    }\n",
              "  </style>\n",
              "\n",
              "      <script>\n",
              "        const buttonEl =\n",
              "          document.querySelector('#df-3708c58d-62a4-41c5-8472-0510478382aa button.colab-df-convert');\n",
              "        buttonEl.style.display =\n",
              "          google.colab.kernel.accessAllowed ? 'block' : 'none';\n",
              "\n",
              "        async function convertToInteractive(key) {\n",
              "          const element = document.querySelector('#df-3708c58d-62a4-41c5-8472-0510478382aa');\n",
              "          const dataTable =\n",
              "            await google.colab.kernel.invokeFunction('convertToInteractive',\n",
              "                                                     [key], {});\n",
              "          if (!dataTable) return;\n",
              "\n",
              "          const docLinkHtml = 'Like what you see? Visit the ' +\n",
              "            '<a target=\"_blank\" href=https://colab.research.google.com/notebooks/data_table.ipynb>data table notebook</a>'\n",
              "            + ' to learn more about interactive tables.';\n",
              "          element.innerHTML = '';\n",
              "          dataTable['output_type'] = 'display_data';\n",
              "          await google.colab.output.renderOutput(dataTable, element);\n",
              "          const docLink = document.createElement('div');\n",
              "          docLink.innerHTML = docLinkHtml;\n",
              "          element.appendChild(docLink);\n",
              "        }\n",
              "      </script>\n",
              "    </div>\n",
              "  </div>\n",
              "  "
            ]
          },
          "metadata": {},
          "execution_count": 34
        }
      ]
    },
    {
      "cell_type": "code",
      "source": [
        "port tokenize\n",
        "import io\n",
        "\n",
        "code.loc['33ff3073','source']\n",
        "\n",
        "code_text = tokenize.generate_tokens(io.StringIO(code.loc['33ff3073','source']).readline)\n",
        "[tok for tok in code_text]"
      ],
      "metadata": {
        "id": "CkNRp-ZNSpSW"
      },
      "execution_count": null,
      "outputs": []
    },
    {
      "cell_type": "code",
      "source": [
        "# Extract only function names, variables, comments then we can join them\n",
        "code_text = tokenize.generate_tokens(io.StringIO(code.loc['33ff3073','source']).readline)\n",
        "[tok.string for tok in code_text if tok.type==53 or tok.type==55]"
      ],
      "metadata": {
        "id": "tlIYC8gKS7Nu"
      },
      "execution_count": null,
      "outputs": []
    },
    {
      "cell_type": "code",
      "source": [
        "# Add code cell ordering\n",
        "X_train = sparse.hstack((\n",
        "    X_train,\n",
        "    np.where(\n",
        "        df_train['cell_type'] == 'code',\n",
        "        df_train.groupby(['id', 'cell_type']).cumcount().to_numpy() + 1,\n",
        "        0,\n",
        "    ).reshape(-1, 1)\n",
        "))\n",
        "\n",
        "print(X_train.shape)"
      ],
      "metadata": {
        "jupyter": {
          "outputs_hidden": false
        },
        "execution": {
          "iopub.status.busy": "2022-06-22T20:30:33.186339Z",
          "iopub.execute_input": "2022-06-22T20:30:33.186647Z",
          "iopub.status.idle": "2022-06-22T20:30:33.430938Z",
          "shell.execute_reply.started": "2022-06-22T20:30:33.186618Z",
          "shell.execute_reply": "2022-06-22T20:30:33.430056Z"
        },
        "trusted": true,
        "id": "Mg67oNAMImYU",
        "colab": {
          "base_uri": "https://localhost:8080/"
        },
        "outputId": "a2341816-7dc3-45e6-ca96-5009b29d9e9f"
      },
      "execution_count": 42,
      "outputs": [
        {
          "output_type": "stream",
          "name": "stdout",
          "text": [
            "(416710, 282)\n"
          ]
        }
      ]
    },
    {
      "cell_type": "code",
      "source": [
        ""
      ],
      "metadata": {
        "id": "HV4uQqTna3hr"
      },
      "execution_count": null,
      "outputs": []
    },
    {
      "cell_type": "markdown",
      "source": [
        "# Train #"
      ],
      "metadata": {
        "id": "sPgHHAhEImYU"
      }
    },
    {
      "cell_type": "markdown",
      "source": [
        "We'll use the ranking algorithm provided by XGBoost."
      ],
      "metadata": {
        "id": "M7f4gMqQImYU"
      }
    },
    {
      "cell_type": "code",
      "source": [
        "from xgboost import XGBRanker\n",
        "\n",
        "model = XGBRanker(\n",
        "    min_child_weight=10,\n",
        "    subsample=0.5,\n",
        "    tree_method='hist',\n",
        ")\n",
        "\n",
        "model.fit(X_train, y_train, group=groups)"
      ],
      "metadata": {
        "jupyter": {
          "outputs_hidden": false
        },
        "execution": {
          "iopub.status.busy": "2022-06-22T20:32:00.517896Z",
          "iopub.execute_input": "2022-06-22T20:32:00.518178Z",
          "iopub.status.idle": "2022-06-22T20:32:12.757784Z",
          "shell.execute_reply.started": "2022-06-22T20:32:00.518141Z",
          "shell.execute_reply": "2022-06-22T20:32:12.757030Z"
        },
        "trusted": true,
        "id": "JZqI4KQwImYU",
        "colab": {
          "base_uri": "https://localhost:8080/"
        },
        "outputId": "d319ddd0-f7bd-4cf4-e089-6621f22f128c"
      },
      "execution_count": 44,
      "outputs": [
        {
          "output_type": "execute_result",
          "data": {
            "text/plain": [
              "XGBRanker(min_child_weight=10, subsample=0.5, tree_method='hist')"
            ]
          },
          "metadata": {},
          "execution_count": 44
        }
      ]
    },
    {
      "cell_type": "markdown",
      "source": [
        "# Evaluate #"
      ],
      "metadata": {
        "id": "t8W3kXArImYU"
      }
    },
    {
      "cell_type": "markdown",
      "source": [
        "Now let's see how well our model learned to order Kaggle notebook cells. We'll evaluate predictions on the validation set with a variant of the Kendall tau correlation."
      ],
      "metadata": {
        "id": "WYPByi39ImYU"
      }
    },
    {
      "cell_type": "markdown",
      "source": [
        "## Validation set ##"
      ],
      "metadata": {
        "id": "DzTHfi7LImYV"
      }
    },
    {
      "cell_type": "markdown",
      "source": [
        "First we'll create features for the validation set just like we did for the training set."
      ],
      "metadata": {
        "id": "y9WfdeafImYV"
      }
    },
    {
      "cell_type": "code",
      "source": [
        "# Validation set\n",
        "X_valid = tfidf.transform(df_valid['source'].astype(str))\n",
        "# The metric uses cell ids\n",
        "y_valid = df_orders.loc[ids_valid]\n",
        "\n",
        "X_valid = sparse.hstack((\n",
        "    X_valid,\n",
        "    np.where(\n",
        "        df_valid['cell_type'] == 'code',\n",
        "        df_valid.groupby(['id', 'cell_type']).cumcount().to_numpy() + 1,\n",
        "        0,\n",
        "    ).reshape(-1, 1)\n",
        "))"
      ],
      "metadata": {
        "execution": {
          "iopub.status.busy": "2022-06-22T20:33:11.120661Z",
          "iopub.execute_input": "2022-06-22T20:33:11.121542Z",
          "iopub.status.idle": "2022-06-22T20:33:12.405417Z",
          "shell.execute_reply.started": "2022-06-22T20:33:11.121491Z",
          "shell.execute_reply": "2022-06-22T20:33:12.404524Z"
        },
        "trusted": true,
        "id": "nhYeY8JrImYV"
      },
      "execution_count": 45,
      "outputs": []
    },
    {
      "cell_type": "markdown",
      "source": [
        "Here we'll use the model to predict the rank of each cell within its notebook and then convert these ranks into a list of ordered cell ids."
      ],
      "metadata": {
        "id": "BGnny9G5ImYV"
      }
    },
    {
      "cell_type": "code",
      "source": [
        "y_pred = pd.DataFrame({'rank': model.predict(X_valid)}, index=df_valid.index)\n",
        "y_pred = (\n",
        "    y_pred\n",
        "    .sort_values(['id', 'rank'])  # Sort the cells in each notebook by their rank.\n",
        "                                  # The cell_ids are now in the order the model predicted.\n",
        "    .reset_index('cell_id')  # Convert the cell_id index into a column.\n",
        "    .groupby('id')['cell_id'].apply(list)  # Group the cell_ids for each notebook into a list.\n",
        ")\n",
        "y_pred.head(10)"
      ],
      "metadata": {
        "jupyter": {
          "outputs_hidden": false
        },
        "execution": {
          "iopub.status.busy": "2022-06-22T20:34:31.373247Z",
          "iopub.execute_input": "2022-06-22T20:34:31.373581Z",
          "iopub.status.idle": "2022-06-22T20:34:31.542514Z",
          "shell.execute_reply.started": "2022-06-22T20:34:31.373546Z",
          "shell.execute_reply": "2022-06-22T20:34:31.541588Z"
        },
        "trusted": true,
        "id": "OArdlUG0ImYW",
        "colab": {
          "base_uri": "https://localhost:8080/"
        },
        "outputId": "13c8313b-12dd-4270-d2c2-366a25f332c2"
      },
      "execution_count": 46,
      "outputs": [
        {
          "output_type": "execute_result",
          "data": {
            "text/plain": [
              "id\n",
              "000757b90aaca0    [8f84d7a9, eb6ca769, bc595bc2, 93cceeef, 3cb3d383, 6e3a3d90, abc159f0, b20690ef, 20f10a90, e301d5a4, 744648dd, 1fa48...\n",
              "000890decea38e    [86a09baa, 6c87eeba, d757b392, fb49d33e, 52a99293, 5a4a2bbc, 77c0fb61, 966ceb67, 1ff9852b, bea84840, 2a4a5ac7, 8afe2...\n",
              "0009acaa9aa47e    [304ad2c3, 5f4ae1f5, 1d217b81, 510ff074, 9b289685, b1714b44, 716dad85, d3c01a47, a77df155, 2dc4f6f6, 02f9f02a, 9bdaa...\n",
              "001106f5f235f6    [2d035cf0, 37e65ad4, 7208c7b5, 7761e223, f05252da, f7738626, 3d7d3b06, ba791708, 12a04565, 3148a4aa, 4d978208, b32dd...\n",
              "00181d9eb98d2c    [cc6e1157, 3ef648a4, 1f1aa782, 48778ea3, 2e25881f, 56159531, bace8369, c7375d07, 22d0985f, 60667602, 864238e0, 2606c...\n",
              "001c0599b0a3e5    [3f3f7be1, 600f419a, 0f0b9bfc, 10ffeb58, 919e192a, 2b97a048, e5b38898, 9c5a9aa7, 0b15d473, 1dce54a8, 18198b77, 2c770...\n",
              "0026ce20e23778    [a94a3251, 9c2d055b, 11bd3b3f, 450680b8, daad77d0, 19a850ac, 94a8181f, e1f15510, fc64940d, e905e109, c161e485, 4711e...\n",
              "002ba502bdac45    [b71dfd9b, 33a51c2c, 028159f0, baf7307e, 2353caa9, e71f3b4f, 6a3aff9c, 3818fb79, 39c58a90, 21094411, 3550beae, 9937e...\n",
              "002bcc9e2f9077    [b437301e, a127110f, a8c42629, 94679249, dead433d, 9fbe6800, 134e3b58, 5bdc5bd9, f8c15bb7, 6bb45576, 3dd3baaa, c5c6a...\n",
              "002ccfbc7b137e    [17d35c42, 4d2a8e97, 6bf42a04, 58ae6b94, 99168a7d, c979429c, 8edc76df, 1321270e, 50125bd6, d457c9dc, 89b919d9, e3228...\n",
              "Name: cell_id, dtype: object"
            ]
          },
          "metadata": {},
          "execution_count": 46
        }
      ]
    },
    {
      "cell_type": "markdown",
      "source": [
        "Now let's examine a notebook to see how the model did."
      ],
      "metadata": {
        "id": "pQLf6yqyImYW"
      }
    },
    {
      "cell_type": "code",
      "source": [
        "nb_id = df_valid.index.get_level_values('id').unique()[8]\n",
        "\n",
        "display(df.loc[nb_id])\n",
        "display(df.loc[nb_id].loc[y_pred.loc[nb_id]])"
      ],
      "metadata": {
        "execution": {
          "iopub.status.busy": "2022-06-22T20:34:36.003759Z",
          "iopub.execute_input": "2022-06-22T20:34:36.004055Z",
          "iopub.status.idle": "2022-06-22T20:34:36.031403Z",
          "shell.execute_reply.started": "2022-06-22T20:34:36.004023Z",
          "shell.execute_reply": "2022-06-22T20:34:36.030730Z"
        },
        "trusted": true,
        "id": "6BSy0XnjImYW",
        "colab": {
          "base_uri": "https://localhost:8080/",
          "height": 1000
        },
        "outputId": "20e574f4-a5a1-47bc-8ec3-fb8e3561e1b4"
      },
      "execution_count": 47,
      "outputs": [
        {
          "output_type": "display_data",
          "data": {
            "text/plain": [
              "         cell_type                                                                                                                   source\n",
              "cell_id                                                                                                                                    \n",
              "b437301e      code  # This Python 3 environment comes with many helpful analytics libraries installed\\n# It is defined by the kaggle/pyt...\n",
              "a127110f      code                                                                       import warnings\\nwarnings.filterwarnings('ignore')\n",
              "a8c42629      code                                                                                               !pip install recordlinkage\n",
              "94679249      code                                                     import recordlinkage\\nfrom recordlinkage.datasets import load_febrl1\n",
              "dead433d      code                                                 # Loading and using the in-built dataset \\ndf = load_febrl1()\\ndf.head()\n",
              "9fbe6800      code                                                                                                         list(df.columns)\n",
              "134e3b58      code                    separator = recordlinkage.BlockIndex(on='given_name')\\npairs = separator.index(df)\\nprint(len(pairs))\n",
              "5bdc5bd9      code                                                                                                                    pairs\n",
              "f8c15bb7      code  # Comparing every field with every field of each pair - similarity scores\\n# We can see that the given name has 1 si...\n",
              "3dd3baaa      code                     # Select all features except blocking key\\ndf_f = features.drop(['given_name'], axis=1)\\ndf_f.head()\n",
              "a84a775f      code             ecm = recordlinkage.ECMClassifier()\\npreds = ecm.learn((df_f).astype(int), return_type='series')\\npreds[:20]\n",
              "4f0ddac2      code                                     from recordlinkage.datasets import load_febrl4\\ndf1, df2 = load_febrl4()\\ndf1.head()\n",
              "40a65e2b      code                                                                                                               df2.head()\n",
              "77cd9ed2      code           # Proceeding with blocking\\nblocks = recordlinkage.BlockIndex(on='given_name')\\npairs = blocks.index(df1, df2)\n",
              "1ff73c1d      code  # Proceeding with calculating similarity scores\\nrcl = recordlinkage.Compare()\\nrcl.string('given_name', 'given_name...\n",
              "2c196598      code                        # Predict matching records using ECM\\ndf_f1 = features.drop(['given_name'], axis=1)\\ndf_f1.head()\n",
              "e6989e98      code                   ecm = recordlinkage.ECMClassifier()\\nresult_ecm = ecm.learn((df_f1).astype(int),return_type ='series')\n",
              "41b804d2      code  # We can see it successfully recognized the original \\n# and duplicate records\\n# Eg - rec-2371-org and rec-2371-dup...\n",
              "6ed1f27a  markdown                                                      <h2>Predicting record matching using an unsupervised ECM-classifier\n",
              "485ce160  markdown  Taking an example, we can see that\\n`rec-122-dup-0` and `rec-122-org` match with value 1\\nIt proves that our model w...\n",
              "0f61026e  markdown  Through this, we can create a rich data lake mapped with global IDs and consistent data across multiple tables. It i...\n",
              "298c7f9d  markdown  We may face some challenges\\n* Huge records that require linkage, stiching or duplication\\n* Records that come from ...\n",
              "52f3a775  markdown                                                                             <h2>De-dpulication with multiple tables</h2>\n",
              "75882ee6  markdown                                                                                    <h2>1. De-duplication in a table</h2>\n",
              "6bb45576  markdown  <h2>1.1 Blocking</h2>\\n\\nWe will first make our process efficient by minimizing the total comparison window. If we h...\n",
              "c5c6a0a5  markdown  <h1>Introduction</h1>\\n\\nThis notebook will cover various data stiching and text similarity techniques. We will work...\n",
              "cffa684c  markdown  <h2>1.2 Similarity matching and scoring</h2>\\n\\nNow we will compute the similarity scored on the pairs generated in ..."
            ],
            "text/html": [
              "\n",
              "  <div id=\"df-b215d06e-a9db-421b-b3f9-6a913967bf5e\">\n",
              "    <div class=\"colab-df-container\">\n",
              "      <div>\n",
              "<style scoped>\n",
              "    .dataframe tbody tr th:only-of-type {\n",
              "        vertical-align: middle;\n",
              "    }\n",
              "\n",
              "    .dataframe tbody tr th {\n",
              "        vertical-align: top;\n",
              "    }\n",
              "\n",
              "    .dataframe thead th {\n",
              "        text-align: right;\n",
              "    }\n",
              "</style>\n",
              "<table border=\"1\" class=\"dataframe\">\n",
              "  <thead>\n",
              "    <tr style=\"text-align: right;\">\n",
              "      <th></th>\n",
              "      <th>cell_type</th>\n",
              "      <th>source</th>\n",
              "    </tr>\n",
              "    <tr>\n",
              "      <th>cell_id</th>\n",
              "      <th></th>\n",
              "      <th></th>\n",
              "    </tr>\n",
              "  </thead>\n",
              "  <tbody>\n",
              "    <tr>\n",
              "      <th>b437301e</th>\n",
              "      <td>code</td>\n",
              "      <td># This Python 3 environment comes with many helpful analytics libraries installed\\n# It is defined by the kaggle/pyt...</td>\n",
              "    </tr>\n",
              "    <tr>\n",
              "      <th>a127110f</th>\n",
              "      <td>code</td>\n",
              "      <td>import warnings\\nwarnings.filterwarnings('ignore')</td>\n",
              "    </tr>\n",
              "    <tr>\n",
              "      <th>a8c42629</th>\n",
              "      <td>code</td>\n",
              "      <td>!pip install recordlinkage</td>\n",
              "    </tr>\n",
              "    <tr>\n",
              "      <th>94679249</th>\n",
              "      <td>code</td>\n",
              "      <td>import recordlinkage\\nfrom recordlinkage.datasets import load_febrl1</td>\n",
              "    </tr>\n",
              "    <tr>\n",
              "      <th>dead433d</th>\n",
              "      <td>code</td>\n",
              "      <td># Loading and using the in-built dataset \\ndf = load_febrl1()\\ndf.head()</td>\n",
              "    </tr>\n",
              "    <tr>\n",
              "      <th>9fbe6800</th>\n",
              "      <td>code</td>\n",
              "      <td>list(df.columns)</td>\n",
              "    </tr>\n",
              "    <tr>\n",
              "      <th>134e3b58</th>\n",
              "      <td>code</td>\n",
              "      <td>separator = recordlinkage.BlockIndex(on='given_name')\\npairs = separator.index(df)\\nprint(len(pairs))</td>\n",
              "    </tr>\n",
              "    <tr>\n",
              "      <th>5bdc5bd9</th>\n",
              "      <td>code</td>\n",
              "      <td>pairs</td>\n",
              "    </tr>\n",
              "    <tr>\n",
              "      <th>f8c15bb7</th>\n",
              "      <td>code</td>\n",
              "      <td># Comparing every field with every field of each pair - similarity scores\\n# We can see that the given name has 1 si...</td>\n",
              "    </tr>\n",
              "    <tr>\n",
              "      <th>3dd3baaa</th>\n",
              "      <td>code</td>\n",
              "      <td># Select all features except blocking key\\ndf_f = features.drop(['given_name'], axis=1)\\ndf_f.head()</td>\n",
              "    </tr>\n",
              "    <tr>\n",
              "      <th>a84a775f</th>\n",
              "      <td>code</td>\n",
              "      <td>ecm = recordlinkage.ECMClassifier()\\npreds = ecm.learn((df_f).astype(int), return_type='series')\\npreds[:20]</td>\n",
              "    </tr>\n",
              "    <tr>\n",
              "      <th>4f0ddac2</th>\n",
              "      <td>code</td>\n",
              "      <td>from recordlinkage.datasets import load_febrl4\\ndf1, df2 = load_febrl4()\\ndf1.head()</td>\n",
              "    </tr>\n",
              "    <tr>\n",
              "      <th>40a65e2b</th>\n",
              "      <td>code</td>\n",
              "      <td>df2.head()</td>\n",
              "    </tr>\n",
              "    <tr>\n",
              "      <th>77cd9ed2</th>\n",
              "      <td>code</td>\n",
              "      <td># Proceeding with blocking\\nblocks = recordlinkage.BlockIndex(on='given_name')\\npairs = blocks.index(df1, df2)</td>\n",
              "    </tr>\n",
              "    <tr>\n",
              "      <th>1ff73c1d</th>\n",
              "      <td>code</td>\n",
              "      <td># Proceeding with calculating similarity scores\\nrcl = recordlinkage.Compare()\\nrcl.string('given_name', 'given_name...</td>\n",
              "    </tr>\n",
              "    <tr>\n",
              "      <th>2c196598</th>\n",
              "      <td>code</td>\n",
              "      <td># Predict matching records using ECM\\ndf_f1 = features.drop(['given_name'], axis=1)\\ndf_f1.head()</td>\n",
              "    </tr>\n",
              "    <tr>\n",
              "      <th>e6989e98</th>\n",
              "      <td>code</td>\n",
              "      <td>ecm = recordlinkage.ECMClassifier()\\nresult_ecm = ecm.learn((df_f1).astype(int),return_type ='series')</td>\n",
              "    </tr>\n",
              "    <tr>\n",
              "      <th>41b804d2</th>\n",
              "      <td>code</td>\n",
              "      <td># We can see it successfully recognized the original \\n# and duplicate records\\n# Eg - rec-2371-org and rec-2371-dup...</td>\n",
              "    </tr>\n",
              "    <tr>\n",
              "      <th>6ed1f27a</th>\n",
              "      <td>markdown</td>\n",
              "      <td>&lt;h2&gt;Predicting record matching using an unsupervised ECM-classifier</td>\n",
              "    </tr>\n",
              "    <tr>\n",
              "      <th>485ce160</th>\n",
              "      <td>markdown</td>\n",
              "      <td>Taking an example, we can see that\\n`rec-122-dup-0` and `rec-122-org` match with value 1\\nIt proves that our model w...</td>\n",
              "    </tr>\n",
              "    <tr>\n",
              "      <th>0f61026e</th>\n",
              "      <td>markdown</td>\n",
              "      <td>Through this, we can create a rich data lake mapped with global IDs and consistent data across multiple tables. It i...</td>\n",
              "    </tr>\n",
              "    <tr>\n",
              "      <th>298c7f9d</th>\n",
              "      <td>markdown</td>\n",
              "      <td>We may face some challenges\\n* Huge records that require linkage, stiching or duplication\\n* Records that come from ...</td>\n",
              "    </tr>\n",
              "    <tr>\n",
              "      <th>52f3a775</th>\n",
              "      <td>markdown</td>\n",
              "      <td>&lt;h2&gt;De-dpulication with multiple tables&lt;/h2&gt;</td>\n",
              "    </tr>\n",
              "    <tr>\n",
              "      <th>75882ee6</th>\n",
              "      <td>markdown</td>\n",
              "      <td>&lt;h2&gt;1. De-duplication in a table&lt;/h2&gt;</td>\n",
              "    </tr>\n",
              "    <tr>\n",
              "      <th>6bb45576</th>\n",
              "      <td>markdown</td>\n",
              "      <td>&lt;h2&gt;1.1 Blocking&lt;/h2&gt;\\n\\nWe will first make our process efficient by minimizing the total comparison window. If we h...</td>\n",
              "    </tr>\n",
              "    <tr>\n",
              "      <th>c5c6a0a5</th>\n",
              "      <td>markdown</td>\n",
              "      <td>&lt;h1&gt;Introduction&lt;/h1&gt;\\n\\nThis notebook will cover various data stiching and text similarity techniques. We will work...</td>\n",
              "    </tr>\n",
              "    <tr>\n",
              "      <th>cffa684c</th>\n",
              "      <td>markdown</td>\n",
              "      <td>&lt;h2&gt;1.2 Similarity matching and scoring&lt;/h2&gt;\\n\\nNow we will compute the similarity scored on the pairs generated in ...</td>\n",
              "    </tr>\n",
              "  </tbody>\n",
              "</table>\n",
              "</div>\n",
              "      <button class=\"colab-df-convert\" onclick=\"convertToInteractive('df-b215d06e-a9db-421b-b3f9-6a913967bf5e')\"\n",
              "              title=\"Convert this dataframe to an interactive table.\"\n",
              "              style=\"display:none;\">\n",
              "        \n",
              "  <svg xmlns=\"http://www.w3.org/2000/svg\" height=\"24px\"viewBox=\"0 0 24 24\"\n",
              "       width=\"24px\">\n",
              "    <path d=\"M0 0h24v24H0V0z\" fill=\"none\"/>\n",
              "    <path d=\"M18.56 5.44l.94 2.06.94-2.06 2.06-.94-2.06-.94-.94-2.06-.94 2.06-2.06.94zm-11 1L8.5 8.5l.94-2.06 2.06-.94-2.06-.94L8.5 2.5l-.94 2.06-2.06.94zm10 10l.94 2.06.94-2.06 2.06-.94-2.06-.94-.94-2.06-.94 2.06-2.06.94z\"/><path d=\"M17.41 7.96l-1.37-1.37c-.4-.4-.92-.59-1.43-.59-.52 0-1.04.2-1.43.59L10.3 9.45l-7.72 7.72c-.78.78-.78 2.05 0 2.83L4 21.41c.39.39.9.59 1.41.59.51 0 1.02-.2 1.41-.59l7.78-7.78 2.81-2.81c.8-.78.8-2.07 0-2.86zM5.41 20L4 18.59l7.72-7.72 1.47 1.35L5.41 20z\"/>\n",
              "  </svg>\n",
              "      </button>\n",
              "      \n",
              "  <style>\n",
              "    .colab-df-container {\n",
              "      display:flex;\n",
              "      flex-wrap:wrap;\n",
              "      gap: 12px;\n",
              "    }\n",
              "\n",
              "    .colab-df-convert {\n",
              "      background-color: #E8F0FE;\n",
              "      border: none;\n",
              "      border-radius: 50%;\n",
              "      cursor: pointer;\n",
              "      display: none;\n",
              "      fill: #1967D2;\n",
              "      height: 32px;\n",
              "      padding: 0 0 0 0;\n",
              "      width: 32px;\n",
              "    }\n",
              "\n",
              "    .colab-df-convert:hover {\n",
              "      background-color: #E2EBFA;\n",
              "      box-shadow: 0px 1px 2px rgba(60, 64, 67, 0.3), 0px 1px 3px 1px rgba(60, 64, 67, 0.15);\n",
              "      fill: #174EA6;\n",
              "    }\n",
              "\n",
              "    [theme=dark] .colab-df-convert {\n",
              "      background-color: #3B4455;\n",
              "      fill: #D2E3FC;\n",
              "    }\n",
              "\n",
              "    [theme=dark] .colab-df-convert:hover {\n",
              "      background-color: #434B5C;\n",
              "      box-shadow: 0px 1px 3px 1px rgba(0, 0, 0, 0.15);\n",
              "      filter: drop-shadow(0px 1px 2px rgba(0, 0, 0, 0.3));\n",
              "      fill: #FFFFFF;\n",
              "    }\n",
              "  </style>\n",
              "\n",
              "      <script>\n",
              "        const buttonEl =\n",
              "          document.querySelector('#df-b215d06e-a9db-421b-b3f9-6a913967bf5e button.colab-df-convert');\n",
              "        buttonEl.style.display =\n",
              "          google.colab.kernel.accessAllowed ? 'block' : 'none';\n",
              "\n",
              "        async function convertToInteractive(key) {\n",
              "          const element = document.querySelector('#df-b215d06e-a9db-421b-b3f9-6a913967bf5e');\n",
              "          const dataTable =\n",
              "            await google.colab.kernel.invokeFunction('convertToInteractive',\n",
              "                                                     [key], {});\n",
              "          if (!dataTable) return;\n",
              "\n",
              "          const docLinkHtml = 'Like what you see? Visit the ' +\n",
              "            '<a target=\"_blank\" href=https://colab.research.google.com/notebooks/data_table.ipynb>data table notebook</a>'\n",
              "            + ' to learn more about interactive tables.';\n",
              "          element.innerHTML = '';\n",
              "          dataTable['output_type'] = 'display_data';\n",
              "          await google.colab.output.renderOutput(dataTable, element);\n",
              "          const docLink = document.createElement('div');\n",
              "          docLink.innerHTML = docLinkHtml;\n",
              "          element.appendChild(docLink);\n",
              "        }\n",
              "      </script>\n",
              "    </div>\n",
              "  </div>\n",
              "  "
            ]
          },
          "metadata": {}
        },
        {
          "output_type": "display_data",
          "data": {
            "text/plain": [
              "         cell_type                                                                                                                   source\n",
              "cell_id                                                                                                                                    \n",
              "b437301e      code  # This Python 3 environment comes with many helpful analytics libraries installed\\n# It is defined by the kaggle/pyt...\n",
              "a127110f      code                                                                       import warnings\\nwarnings.filterwarnings('ignore')\n",
              "a8c42629      code                                                                                               !pip install recordlinkage\n",
              "94679249      code                                                     import recordlinkage\\nfrom recordlinkage.datasets import load_febrl1\n",
              "dead433d      code                                                 # Loading and using the in-built dataset \\ndf = load_febrl1()\\ndf.head()\n",
              "9fbe6800      code                                                                                                         list(df.columns)\n",
              "134e3b58      code                    separator = recordlinkage.BlockIndex(on='given_name')\\npairs = separator.index(df)\\nprint(len(pairs))\n",
              "5bdc5bd9      code                                                                                                                    pairs\n",
              "f8c15bb7      code  # Comparing every field with every field of each pair - similarity scores\\n# We can see that the given name has 1 si...\n",
              "6bb45576  markdown  <h2>1.1 Blocking</h2>\\n\\nWe will first make our process efficient by minimizing the total comparison window. If we h...\n",
              "3dd3baaa      code                     # Select all features except blocking key\\ndf_f = features.drop(['given_name'], axis=1)\\ndf_f.head()\n",
              "c5c6a0a5  markdown  <h1>Introduction</h1>\\n\\nThis notebook will cover various data stiching and text similarity techniques. We will work...\n",
              "0f61026e  markdown  Through this, we can create a rich data lake mapped with global IDs and consistent data across multiple tables. It i...\n",
              "a84a775f      code             ecm = recordlinkage.ECMClassifier()\\npreds = ecm.learn((df_f).astype(int), return_type='series')\\npreds[:20]\n",
              "4f0ddac2      code                                     from recordlinkage.datasets import load_febrl4\\ndf1, df2 = load_febrl4()\\ndf1.head()\n",
              "40a65e2b      code                                                                                                               df2.head()\n",
              "77cd9ed2      code           # Proceeding with blocking\\nblocks = recordlinkage.BlockIndex(on='given_name')\\npairs = blocks.index(df1, df2)\n",
              "6ed1f27a  markdown                                                      <h2>Predicting record matching using an unsupervised ECM-classifier\n",
              "298c7f9d  markdown  We may face some challenges\\n* Huge records that require linkage, stiching or duplication\\n* Records that come from ...\n",
              "52f3a775  markdown                                                                             <h2>De-dpulication with multiple tables</h2>\n",
              "75882ee6  markdown                                                                                    <h2>1. De-duplication in a table</h2>\n",
              "cffa684c  markdown  <h2>1.2 Similarity matching and scoring</h2>\\n\\nNow we will compute the similarity scored on the pairs generated in ...\n",
              "1ff73c1d      code  # Proceeding with calculating similarity scores\\nrcl = recordlinkage.Compare()\\nrcl.string('given_name', 'given_name...\n",
              "e6989e98      code                   ecm = recordlinkage.ECMClassifier()\\nresult_ecm = ecm.learn((df_f1).astype(int),return_type ='series')\n",
              "485ce160  markdown  Taking an example, we can see that\\n`rec-122-dup-0` and `rec-122-org` match with value 1\\nIt proves that our model w...\n",
              "2c196598      code                        # Predict matching records using ECM\\ndf_f1 = features.drop(['given_name'], axis=1)\\ndf_f1.head()\n",
              "41b804d2      code  # We can see it successfully recognized the original \\n# and duplicate records\\n# Eg - rec-2371-org and rec-2371-dup..."
            ],
            "text/html": [
              "\n",
              "  <div id=\"df-04daea91-3336-4f19-969f-b94e33702a0e\">\n",
              "    <div class=\"colab-df-container\">\n",
              "      <div>\n",
              "<style scoped>\n",
              "    .dataframe tbody tr th:only-of-type {\n",
              "        vertical-align: middle;\n",
              "    }\n",
              "\n",
              "    .dataframe tbody tr th {\n",
              "        vertical-align: top;\n",
              "    }\n",
              "\n",
              "    .dataframe thead th {\n",
              "        text-align: right;\n",
              "    }\n",
              "</style>\n",
              "<table border=\"1\" class=\"dataframe\">\n",
              "  <thead>\n",
              "    <tr style=\"text-align: right;\">\n",
              "      <th></th>\n",
              "      <th>cell_type</th>\n",
              "      <th>source</th>\n",
              "    </tr>\n",
              "    <tr>\n",
              "      <th>cell_id</th>\n",
              "      <th></th>\n",
              "      <th></th>\n",
              "    </tr>\n",
              "  </thead>\n",
              "  <tbody>\n",
              "    <tr>\n",
              "      <th>b437301e</th>\n",
              "      <td>code</td>\n",
              "      <td># This Python 3 environment comes with many helpful analytics libraries installed\\n# It is defined by the kaggle/pyt...</td>\n",
              "    </tr>\n",
              "    <tr>\n",
              "      <th>a127110f</th>\n",
              "      <td>code</td>\n",
              "      <td>import warnings\\nwarnings.filterwarnings('ignore')</td>\n",
              "    </tr>\n",
              "    <tr>\n",
              "      <th>a8c42629</th>\n",
              "      <td>code</td>\n",
              "      <td>!pip install recordlinkage</td>\n",
              "    </tr>\n",
              "    <tr>\n",
              "      <th>94679249</th>\n",
              "      <td>code</td>\n",
              "      <td>import recordlinkage\\nfrom recordlinkage.datasets import load_febrl1</td>\n",
              "    </tr>\n",
              "    <tr>\n",
              "      <th>dead433d</th>\n",
              "      <td>code</td>\n",
              "      <td># Loading and using the in-built dataset \\ndf = load_febrl1()\\ndf.head()</td>\n",
              "    </tr>\n",
              "    <tr>\n",
              "      <th>9fbe6800</th>\n",
              "      <td>code</td>\n",
              "      <td>list(df.columns)</td>\n",
              "    </tr>\n",
              "    <tr>\n",
              "      <th>134e3b58</th>\n",
              "      <td>code</td>\n",
              "      <td>separator = recordlinkage.BlockIndex(on='given_name')\\npairs = separator.index(df)\\nprint(len(pairs))</td>\n",
              "    </tr>\n",
              "    <tr>\n",
              "      <th>5bdc5bd9</th>\n",
              "      <td>code</td>\n",
              "      <td>pairs</td>\n",
              "    </tr>\n",
              "    <tr>\n",
              "      <th>f8c15bb7</th>\n",
              "      <td>code</td>\n",
              "      <td># Comparing every field with every field of each pair - similarity scores\\n# We can see that the given name has 1 si...</td>\n",
              "    </tr>\n",
              "    <tr>\n",
              "      <th>6bb45576</th>\n",
              "      <td>markdown</td>\n",
              "      <td>&lt;h2&gt;1.1 Blocking&lt;/h2&gt;\\n\\nWe will first make our process efficient by minimizing the total comparison window. If we h...</td>\n",
              "    </tr>\n",
              "    <tr>\n",
              "      <th>3dd3baaa</th>\n",
              "      <td>code</td>\n",
              "      <td># Select all features except blocking key\\ndf_f = features.drop(['given_name'], axis=1)\\ndf_f.head()</td>\n",
              "    </tr>\n",
              "    <tr>\n",
              "      <th>c5c6a0a5</th>\n",
              "      <td>markdown</td>\n",
              "      <td>&lt;h1&gt;Introduction&lt;/h1&gt;\\n\\nThis notebook will cover various data stiching and text similarity techniques. We will work...</td>\n",
              "    </tr>\n",
              "    <tr>\n",
              "      <th>0f61026e</th>\n",
              "      <td>markdown</td>\n",
              "      <td>Through this, we can create a rich data lake mapped with global IDs and consistent data across multiple tables. It i...</td>\n",
              "    </tr>\n",
              "    <tr>\n",
              "      <th>a84a775f</th>\n",
              "      <td>code</td>\n",
              "      <td>ecm = recordlinkage.ECMClassifier()\\npreds = ecm.learn((df_f).astype(int), return_type='series')\\npreds[:20]</td>\n",
              "    </tr>\n",
              "    <tr>\n",
              "      <th>4f0ddac2</th>\n",
              "      <td>code</td>\n",
              "      <td>from recordlinkage.datasets import load_febrl4\\ndf1, df2 = load_febrl4()\\ndf1.head()</td>\n",
              "    </tr>\n",
              "    <tr>\n",
              "      <th>40a65e2b</th>\n",
              "      <td>code</td>\n",
              "      <td>df2.head()</td>\n",
              "    </tr>\n",
              "    <tr>\n",
              "      <th>77cd9ed2</th>\n",
              "      <td>code</td>\n",
              "      <td># Proceeding with blocking\\nblocks = recordlinkage.BlockIndex(on='given_name')\\npairs = blocks.index(df1, df2)</td>\n",
              "    </tr>\n",
              "    <tr>\n",
              "      <th>6ed1f27a</th>\n",
              "      <td>markdown</td>\n",
              "      <td>&lt;h2&gt;Predicting record matching using an unsupervised ECM-classifier</td>\n",
              "    </tr>\n",
              "    <tr>\n",
              "      <th>298c7f9d</th>\n",
              "      <td>markdown</td>\n",
              "      <td>We may face some challenges\\n* Huge records that require linkage, stiching or duplication\\n* Records that come from ...</td>\n",
              "    </tr>\n",
              "    <tr>\n",
              "      <th>52f3a775</th>\n",
              "      <td>markdown</td>\n",
              "      <td>&lt;h2&gt;De-dpulication with multiple tables&lt;/h2&gt;</td>\n",
              "    </tr>\n",
              "    <tr>\n",
              "      <th>75882ee6</th>\n",
              "      <td>markdown</td>\n",
              "      <td>&lt;h2&gt;1. De-duplication in a table&lt;/h2&gt;</td>\n",
              "    </tr>\n",
              "    <tr>\n",
              "      <th>cffa684c</th>\n",
              "      <td>markdown</td>\n",
              "      <td>&lt;h2&gt;1.2 Similarity matching and scoring&lt;/h2&gt;\\n\\nNow we will compute the similarity scored on the pairs generated in ...</td>\n",
              "    </tr>\n",
              "    <tr>\n",
              "      <th>1ff73c1d</th>\n",
              "      <td>code</td>\n",
              "      <td># Proceeding with calculating similarity scores\\nrcl = recordlinkage.Compare()\\nrcl.string('given_name', 'given_name...</td>\n",
              "    </tr>\n",
              "    <tr>\n",
              "      <th>e6989e98</th>\n",
              "      <td>code</td>\n",
              "      <td>ecm = recordlinkage.ECMClassifier()\\nresult_ecm = ecm.learn((df_f1).astype(int),return_type ='series')</td>\n",
              "    </tr>\n",
              "    <tr>\n",
              "      <th>485ce160</th>\n",
              "      <td>markdown</td>\n",
              "      <td>Taking an example, we can see that\\n`rec-122-dup-0` and `rec-122-org` match with value 1\\nIt proves that our model w...</td>\n",
              "    </tr>\n",
              "    <tr>\n",
              "      <th>2c196598</th>\n",
              "      <td>code</td>\n",
              "      <td># Predict matching records using ECM\\ndf_f1 = features.drop(['given_name'], axis=1)\\ndf_f1.head()</td>\n",
              "    </tr>\n",
              "    <tr>\n",
              "      <th>41b804d2</th>\n",
              "      <td>code</td>\n",
              "      <td># We can see it successfully recognized the original \\n# and duplicate records\\n# Eg - rec-2371-org and rec-2371-dup...</td>\n",
              "    </tr>\n",
              "  </tbody>\n",
              "</table>\n",
              "</div>\n",
              "      <button class=\"colab-df-convert\" onclick=\"convertToInteractive('df-04daea91-3336-4f19-969f-b94e33702a0e')\"\n",
              "              title=\"Convert this dataframe to an interactive table.\"\n",
              "              style=\"display:none;\">\n",
              "        \n",
              "  <svg xmlns=\"http://www.w3.org/2000/svg\" height=\"24px\"viewBox=\"0 0 24 24\"\n",
              "       width=\"24px\">\n",
              "    <path d=\"M0 0h24v24H0V0z\" fill=\"none\"/>\n",
              "    <path d=\"M18.56 5.44l.94 2.06.94-2.06 2.06-.94-2.06-.94-.94-2.06-.94 2.06-2.06.94zm-11 1L8.5 8.5l.94-2.06 2.06-.94-2.06-.94L8.5 2.5l-.94 2.06-2.06.94zm10 10l.94 2.06.94-2.06 2.06-.94-2.06-.94-.94-2.06-.94 2.06-2.06.94z\"/><path d=\"M17.41 7.96l-1.37-1.37c-.4-.4-.92-.59-1.43-.59-.52 0-1.04.2-1.43.59L10.3 9.45l-7.72 7.72c-.78.78-.78 2.05 0 2.83L4 21.41c.39.39.9.59 1.41.59.51 0 1.02-.2 1.41-.59l7.78-7.78 2.81-2.81c.8-.78.8-2.07 0-2.86zM5.41 20L4 18.59l7.72-7.72 1.47 1.35L5.41 20z\"/>\n",
              "  </svg>\n",
              "      </button>\n",
              "      \n",
              "  <style>\n",
              "    .colab-df-container {\n",
              "      display:flex;\n",
              "      flex-wrap:wrap;\n",
              "      gap: 12px;\n",
              "    }\n",
              "\n",
              "    .colab-df-convert {\n",
              "      background-color: #E8F0FE;\n",
              "      border: none;\n",
              "      border-radius: 50%;\n",
              "      cursor: pointer;\n",
              "      display: none;\n",
              "      fill: #1967D2;\n",
              "      height: 32px;\n",
              "      padding: 0 0 0 0;\n",
              "      width: 32px;\n",
              "    }\n",
              "\n",
              "    .colab-df-convert:hover {\n",
              "      background-color: #E2EBFA;\n",
              "      box-shadow: 0px 1px 2px rgba(60, 64, 67, 0.3), 0px 1px 3px 1px rgba(60, 64, 67, 0.15);\n",
              "      fill: #174EA6;\n",
              "    }\n",
              "\n",
              "    [theme=dark] .colab-df-convert {\n",
              "      background-color: #3B4455;\n",
              "      fill: #D2E3FC;\n",
              "    }\n",
              "\n",
              "    [theme=dark] .colab-df-convert:hover {\n",
              "      background-color: #434B5C;\n",
              "      box-shadow: 0px 1px 3px 1px rgba(0, 0, 0, 0.15);\n",
              "      filter: drop-shadow(0px 1px 2px rgba(0, 0, 0, 0.3));\n",
              "      fill: #FFFFFF;\n",
              "    }\n",
              "  </style>\n",
              "\n",
              "      <script>\n",
              "        const buttonEl =\n",
              "          document.querySelector('#df-04daea91-3336-4f19-969f-b94e33702a0e button.colab-df-convert');\n",
              "        buttonEl.style.display =\n",
              "          google.colab.kernel.accessAllowed ? 'block' : 'none';\n",
              "\n",
              "        async function convertToInteractive(key) {\n",
              "          const element = document.querySelector('#df-04daea91-3336-4f19-969f-b94e33702a0e');\n",
              "          const dataTable =\n",
              "            await google.colab.kernel.invokeFunction('convertToInteractive',\n",
              "                                                     [key], {});\n",
              "          if (!dataTable) return;\n",
              "\n",
              "          const docLinkHtml = 'Like what you see? Visit the ' +\n",
              "            '<a target=\"_blank\" href=https://colab.research.google.com/notebooks/data_table.ipynb>data table notebook</a>'\n",
              "            + ' to learn more about interactive tables.';\n",
              "          element.innerHTML = '';\n",
              "          dataTable['output_type'] = 'display_data';\n",
              "          await google.colab.output.renderOutput(dataTable, element);\n",
              "          const docLink = document.createElement('div');\n",
              "          docLink.innerHTML = docLinkHtml;\n",
              "          element.appendChild(docLink);\n",
              "        }\n",
              "      </script>\n",
              "    </div>\n",
              "  </div>\n",
              "  "
            ]
          },
          "metadata": {}
        }
      ]
    },
    {
      "cell_type": "markdown",
      "source": [
        "## Metric ##\n",
        "\n",
        "This competition uses a variant of the [Kendall tau correlation](https://www.kaggle.com/competitions/AI4Code/overview/evaluation), which will measure how close to the correct order our predicted orderings are. See this notebook for more on this metric: [Competition Metric - Kendall Tau Correlation](https://www.kaggle.com/code/ryanholbrook/competition-metric-kendall-tau-correlation/notebook)."
      ],
      "metadata": {
        "id": "cicfvDq0ImYW"
      }
    },
    {
      "cell_type": "code",
      "source": [
        "from bisect import bisect\n",
        "\n",
        "\n",
        "def count_inversions(a):\n",
        "    inversions = 0\n",
        "    sorted_so_far = []\n",
        "    for i, u in enumerate(a):\n",
        "        j = bisect(sorted_so_far, u)\n",
        "        inversions += i - j\n",
        "        sorted_so_far.insert(j, u)\n",
        "    return inversions\n",
        "\n",
        "\n",
        "def kendall_tau(ground_truth, predictions):\n",
        "    total_inversions = 0\n",
        "    total_2max = 0  # twice the maximum possible inversions across all instances\n",
        "    for gt, pred in zip(ground_truth, predictions):\n",
        "        ranks = [gt.index(x) for x in pred]  # rank predicted order in terms of ground truth\n",
        "        total_inversions += count_inversions(ranks)\n",
        "        n = len(gt)\n",
        "        total_2max += n * (n - 1)\n",
        "    return 1 - 4 * total_inversions / total_2max"
      ],
      "metadata": {
        "jupyter": {
          "outputs_hidden": false
        },
        "execution": {
          "iopub.status.busy": "2022-06-22T20:34:53.477544Z",
          "iopub.execute_input": "2022-06-22T20:34:53.477801Z",
          "iopub.status.idle": "2022-06-22T20:34:53.484700Z",
          "shell.execute_reply.started": "2022-06-22T20:34:53.477776Z",
          "shell.execute_reply": "2022-06-22T20:34:53.483876Z"
        },
        "trusted": true,
        "id": "__nbz1HkImYW"
      },
      "execution_count": null,
      "outputs": []
    },
    {
      "cell_type": "markdown",
      "source": [
        "Let's test the metric with a dummy submission created from the ids of the shuffled notebooks."
      ],
      "metadata": {
        "id": "Wrry0NlhImYX"
      }
    },
    {
      "cell_type": "code",
      "source": [
        "y_dummy = df_valid.reset_index('cell_id').groupby('id')['cell_id'].apply(list)\n",
        "dummy_score = kendall_tau(y_valid, y_dummy)\n",
        "\n",
        "mlflow.log_metric(\"Dummy_Score\", dummy_score)"
      ],
      "metadata": {
        "execution": {
          "iopub.status.busy": "2022-06-22T20:35:01.191031Z",
          "iopub.execute_input": "2022-06-22T20:35:01.191787Z",
          "iopub.status.idle": "2022-06-22T20:35:01.300195Z",
          "shell.execute_reply.started": "2022-06-22T20:35:01.191744Z",
          "shell.execute_reply": "2022-06-22T20:35:01.299305Z"
        },
        "trusted": true,
        "id": "P6BRnx0iImYX"
      },
      "execution_count": null,
      "outputs": []
    },
    {
      "cell_type": "markdown",
      "source": [
        "Comparing this to the score on the predictions, we can see that our model was indeed able to improve the cell ordering somewhat."
      ],
      "metadata": {
        "id": "eh1J1IjzImYX"
      }
    },
    {
      "cell_type": "code",
      "source": [
        "prediction_score = kendall_tau(y_valid, y_pred)\n",
        "mlflow.log_metric(\"Prediction_Score\", prediction_score)"
      ],
      "metadata": {
        "execution": {
          "iopub.status.busy": "2022-06-22T20:35:03.909161Z",
          "iopub.execute_input": "2022-06-22T20:35:03.909457Z",
          "iopub.status.idle": "2022-06-22T20:35:03.976512Z",
          "shell.execute_reply.started": "2022-06-22T20:35:03.909424Z",
          "shell.execute_reply": "2022-06-22T20:35:03.975663Z"
        },
        "trusted": true,
        "id": "CcXG8FcDImYX"
      },
      "execution_count": null,
      "outputs": []
    },
    {
      "cell_type": "code",
      "source": [
        ""
      ],
      "metadata": {
        "id": "Kr2VQbWliXHD"
      },
      "execution_count": null,
      "outputs": []
    },
    {
      "cell_type": "markdown",
      "source": [
        "# Submission #"
      ],
      "metadata": {
        "id": "cZEXEp3bImYY"
      }
    },
    {
      "cell_type": "markdown",
      "source": [
        "To create a submission for this competition, we'll apply our model to the notebooks in the test set. Note that this is a **Code Competition**, which means that the test data we see here is only a small sample. When we submit our notebook for scoring, this example data will be replaced with the full test set of about 20,000 notebooks."
      ],
      "metadata": {
        "id": "bkN1ZrZDImYY"
      }
    },
    {
      "cell_type": "markdown",
      "source": [
        "First we load the data."
      ],
      "metadata": {
        "id": "PI9gXwDlImYY"
      }
    },
    {
      "cell_type": "code",
      "source": [
        "paths_test = list((data_dir / 'test').glob('*.json'))\n",
        "notebooks_test = [\n",
        "    read_notebook(path) for path in tqdm(paths_test, desc='Test NBs')\n",
        "]\n",
        "df_test = (\n",
        "    pd.concat(notebooks_test)\n",
        "    .set_index('id', append=True)\n",
        "    .swaplevel()\n",
        "    .sort_index(level='id', sort_remaining=False)\n",
        ")"
      ],
      "metadata": {
        "execution": {
          "iopub.status.busy": "2022-06-22T20:35:21.716153Z",
          "iopub.execute_input": "2022-06-22T20:35:21.716457Z",
          "iopub.status.idle": "2022-06-22T20:35:21.791111Z",
          "shell.execute_reply.started": "2022-06-22T20:35:21.716417Z",
          "shell.execute_reply": "2022-06-22T20:35:21.790432Z"
        },
        "trusted": true,
        "id": "m2TlSna4ImYY"
      },
      "execution_count": null,
      "outputs": []
    },
    {
      "cell_type": "markdown",
      "source": [
        "Then create the tf-idf and code cell features."
      ],
      "metadata": {
        "id": "LsGnDZMGImYY"
      }
    },
    {
      "cell_type": "code",
      "source": [
        "X_test = tfidf.transform(df_test['source'].astype(str))\n",
        "X_test = sparse.hstack((\n",
        "    X_test,\n",
        "    np.where(\n",
        "        df_test['cell_type'] == 'code',\n",
        "        df_test.groupby(['id', 'cell_type']).cumcount().to_numpy() + 1,\n",
        "        0,\n",
        "    ).reshape(-1, 1)\n",
        "))"
      ],
      "metadata": {
        "jupyter": {
          "outputs_hidden": false
        },
        "execution": {
          "iopub.status.busy": "2022-06-22T20:35:26.507891Z",
          "iopub.execute_input": "2022-06-22T20:35:26.508174Z",
          "iopub.status.idle": "2022-06-22T20:35:26.523772Z",
          "shell.execute_reply.started": "2022-06-22T20:35:26.508142Z",
          "shell.execute_reply": "2022-06-22T20:35:26.522941Z"
        },
        "trusted": true,
        "id": "EFH2g4XFImYY"
      },
      "execution_count": null,
      "outputs": []
    },
    {
      "cell_type": "markdown",
      "source": [
        "And then create predictions on the test set."
      ],
      "metadata": {
        "id": "1A8G96pyImYY"
      }
    },
    {
      "cell_type": "code",
      "source": [
        "y_infer = pd.DataFrame({'rank': model.predict(X_test)}, index=df_test.index)\n",
        "y_infer = y_infer.sort_values(['id', 'rank']).reset_index('cell_id').groupby('id')['cell_id'].apply(list)\n",
        "y_infer"
      ],
      "metadata": {
        "jupyter": {
          "outputs_hidden": false
        },
        "execution": {
          "iopub.status.busy": "2022-06-22T20:35:34.132890Z",
          "iopub.execute_input": "2022-06-22T20:35:34.133563Z",
          "iopub.status.idle": "2022-06-22T20:35:34.153489Z",
          "shell.execute_reply.started": "2022-06-22T20:35:34.133516Z",
          "shell.execute_reply": "2022-06-22T20:35:34.152650Z"
        },
        "trusted": true,
        "id": "3HVhRP8qImYZ"
      },
      "execution_count": null,
      "outputs": []
    },
    {
      "cell_type": "markdown",
      "source": [
        "The `sample_submission.csv` file shows what a correctly formatted submission must look like. We'll just use it as a visual check, but you might like to directly modify the values of sample submission instead. (This would help prevent failed submissions due to missing notebook ids or incorrectly named columns, for instance.)"
      ],
      "metadata": {
        "id": "075A29SWImYZ"
      }
    }
  ]
}